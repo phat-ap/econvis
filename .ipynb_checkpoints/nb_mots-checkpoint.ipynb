{
 "cells": [
  {
   "cell_type": "code",
   "execution_count": 1,
   "id": "953a48c5",
   "metadata": {},
   "outputs": [],
   "source": [
    "import pandas as pd\n",
    "\n",
    "# Data\n",
    "df_mots = (pd\n",
    "           .read_csv('https://raw.githubusercontent.com/phat-ap/econvis/main/data/tha_mots_annual_by_province.csv'\n",
    "                    )\n",
    "          )\n",
    "\n",
    "for col in ['level', 'province_en', 'variable_en']:\n",
    "    df_mots[col] = df_mots[col].astype('category')"
   ]
  },
  {
   "cell_type": "code",
   "execution_count": 28,
   "id": "f9dbe84b",
   "metadata": {},
   "outputs": [],
   "source": [
    "def get_data(variable, province):\n",
    "    return (df_mots\n",
    "            .query('variable_en == @variable & province_en == @province')\n",
    "            .sort_values('year')['value']\n",
    "            .reset_index(drop=True)\n",
    "            .copy()\n",
    "           )"
   ]
  },
  {
   "cell_type": "code",
   "execution_count": 10,
   "id": "2d804a8c",
   "metadata": {},
   "outputs": [
    {
     "data": {
      "text/plain": [
       "['Occupancy Rate (%)',\n",
       " 'Number of Accommodation Guests',\n",
       " 'Number of Visitors',\n",
       " 'Number of Thai Visitors',\n",
       " 'Number of Foreign Visitors',\n",
       " 'Receipts from Visitors (MB)',\n",
       " 'Receipts from Thai Visitors (MB)',\n",
       " 'Receipts from Foreign Visitors (MB)']"
      ]
     },
     "execution_count": 10,
     "metadata": {},
     "output_type": "execute_result"
    }
   ],
   "source": [
    "df_mots.variable_en.unique().to_list()"
   ]
  },
  {
   "cell_type": "code",
   "execution_count": 29,
   "id": "c21aaff0",
   "metadata": {},
   "outputs": [
    {
     "data": {
      "text/plain": [
       "0    56.89\n",
       "1    36.33\n",
       "2    19.25\n",
       "3    50.64\n",
       "Name: value, dtype: float64"
      ]
     },
     "execution_count": 29,
     "metadata": {},
     "output_type": "execute_result"
    }
   ],
   "source": [
    "get_data('Occupancy Rate (%)', 'Ratchaburi')"
   ]
  }
 ],
 "metadata": {
  "kernelspec": {
   "display_name": "Python 3 (ipykernel)",
   "language": "python",
   "name": "python3"
  },
  "language_info": {
   "codemirror_mode": {
    "name": "ipython",
    "version": 3
   },
   "file_extension": ".py",
   "mimetype": "text/x-python",
   "name": "python",
   "nbconvert_exporter": "python",
   "pygments_lexer": "ipython3",
   "version": "3.9.16"
  }
 },
 "nbformat": 4,
 "nbformat_minor": 5
}

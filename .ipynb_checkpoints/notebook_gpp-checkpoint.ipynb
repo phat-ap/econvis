{
 "cells": [
  {
   "cell_type": "code",
   "execution_count": 47,
   "id": "00f41084",
   "metadata": {},
   "outputs": [],
   "source": [
    "import pandas as pd\n",
    "\n",
    "# Data\n",
    "df_gpp = (pd\n",
    "          .read_csv('C:\\\\Users\\\\phata\\\\Documents\\\\GitHub\\\\econvis\\\\data\\\\tha_gpp.csv'\n",
    "                    )\n",
    "          .melt(id_vars = ['province_nesdc_en', 'type', 'sector'],\n",
    "                var_name='year',\n",
    "                value_name = 'value'\n",
    "                )\n",
    "          )\n",
    "\n",
    "# Rename provinces\n",
    "df_rename_provinces = (pd\n",
    "                       .read_csv('C:\\\\Users\\\\phata\\\\Documents\\\\GitHub\\\\econvis\\\\data\\\\renames\\\\rename_nesdc_provinces.csv',\n",
    "                                 index_col = 'province_en_nesdc'\n",
    "                                )\n",
    "                      )\n",
    "\n",
    "df_gpp = df_gpp.join(df_rename_provinces, on = 'province_nesdc_en')\n"
   ]
  },
  {
   "cell_type": "code",
   "execution_count": 38,
   "id": "c679371c",
   "metadata": {},
   "outputs": [
    {
     "data": {
      "text/html": [
       "<div>\n",
       "<style scoped>\n",
       "    .dataframe tbody tr th:only-of-type {\n",
       "        vertical-align: middle;\n",
       "    }\n",
       "\n",
       "    .dataframe tbody tr th {\n",
       "        vertical-align: top;\n",
       "    }\n",
       "\n",
       "    .dataframe thead th {\n",
       "        text-align: right;\n",
       "    }\n",
       "</style>\n",
       "<table border=\"1\" class=\"dataframe\">\n",
       "  <thead>\n",
       "    <tr style=\"text-align: right;\">\n",
       "      <th></th>\n",
       "      <th>province_nesdc_en</th>\n",
       "      <th>type</th>\n",
       "      <th>sector</th>\n",
       "      <th>year</th>\n",
       "      <th>value</th>\n",
       "      <th>province_en</th>\n",
       "    </tr>\n",
       "  </thead>\n",
       "  <tbody>\n",
       "    <tr>\n",
       "      <th>0</th>\n",
       "      <td>KHON KAEN</td>\n",
       "      <td>Current Market Prices</td>\n",
       "      <td>Agriculture</td>\n",
       "      <td>1995</td>\n",
       "      <td>4743.874671</td>\n",
       "      <td>Khon Kaen</td>\n",
       "    </tr>\n",
       "    <tr>\n",
       "      <th>1</th>\n",
       "      <td>KHON KAEN</td>\n",
       "      <td>Current Market Prices</td>\n",
       "      <td>Agriculture</td>\n",
       "      <td>1995</td>\n",
       "      <td>4743.874671</td>\n",
       "      <td>Khon Kaen</td>\n",
       "    </tr>\n",
       "    <tr>\n",
       "      <th>2</th>\n",
       "      <td>KHON KAEN</td>\n",
       "      <td>Current Market Prices</td>\n",
       "      <td>Agriculture, forestry and fishing</td>\n",
       "      <td>1995</td>\n",
       "      <td>4743.874671</td>\n",
       "      <td>Khon Kaen</td>\n",
       "    </tr>\n",
       "    <tr>\n",
       "      <th>3</th>\n",
       "      <td>KHON KAEN</td>\n",
       "      <td>Current Market Prices</td>\n",
       "      <td>Non-Agriculture</td>\n",
       "      <td>1995</td>\n",
       "      <td>46980.822010</td>\n",
       "      <td>Khon Kaen</td>\n",
       "    </tr>\n",
       "    <tr>\n",
       "      <th>4</th>\n",
       "      <td>KHON KAEN</td>\n",
       "      <td>Current Market Prices</td>\n",
       "      <td>Industrial</td>\n",
       "      <td>1995</td>\n",
       "      <td>15237.618280</td>\n",
       "      <td>Khon Kaen</td>\n",
       "    </tr>\n",
       "    <tr>\n",
       "      <th>...</th>\n",
       "      <td>...</td>\n",
       "      <td>...</td>\n",
       "      <td>...</td>\n",
       "      <td>...</td>\n",
       "      <td>...</td>\n",
       "      <td>...</td>\n",
       "    </tr>\n",
       "    <tr>\n",
       "      <th>104099</th>\n",
       "      <td>NONTHABURI</td>\n",
       "      <td>Chain Volume Measures</td>\n",
       "      <td>Education</td>\n",
       "      <td>2020</td>\n",
       "      <td>3691.860681</td>\n",
       "      <td>Nonthaburi</td>\n",
       "    </tr>\n",
       "    <tr>\n",
       "      <th>104100</th>\n",
       "      <td>NONTHABURI</td>\n",
       "      <td>Chain Volume Measures</td>\n",
       "      <td>Human health and social work activities</td>\n",
       "      <td>2020</td>\n",
       "      <td>27658.046170</td>\n",
       "      <td>Nonthaburi</td>\n",
       "    </tr>\n",
       "    <tr>\n",
       "      <th>104101</th>\n",
       "      <td>NONTHABURI</td>\n",
       "      <td>Chain Volume Measures</td>\n",
       "      <td>Arts, entertainment and recreation</td>\n",
       "      <td>2020</td>\n",
       "      <td>20494.773810</td>\n",
       "      <td>Nonthaburi</td>\n",
       "    </tr>\n",
       "    <tr>\n",
       "      <th>104102</th>\n",
       "      <td>NONTHABURI</td>\n",
       "      <td>Chain Volume Measures</td>\n",
       "      <td>Other service activities</td>\n",
       "      <td>2020</td>\n",
       "      <td>4831.855440</td>\n",
       "      <td>Nonthaburi</td>\n",
       "    </tr>\n",
       "    <tr>\n",
       "      <th>104103</th>\n",
       "      <td>NONTHABURI</td>\n",
       "      <td>Chain Volume Measures</td>\n",
       "      <td>Gross provincial product (CVMs)</td>\n",
       "      <td>2020</td>\n",
       "      <td>242602.233500</td>\n",
       "      <td>Nonthaburi</td>\n",
       "    </tr>\n",
       "  </tbody>\n",
       "</table>\n",
       "<p>104104 rows × 6 columns</p>\n",
       "</div>"
      ],
      "text/plain": [
       "       province_nesdc_en                   type  \\\n",
       "0              KHON KAEN  Current Market Prices   \n",
       "1              KHON KAEN  Current Market Prices   \n",
       "2              KHON KAEN  Current Market Prices   \n",
       "3              KHON KAEN  Current Market Prices   \n",
       "4              KHON KAEN  Current Market Prices   \n",
       "...                  ...                    ...   \n",
       "104099        NONTHABURI  Chain Volume Measures   \n",
       "104100        NONTHABURI  Chain Volume Measures   \n",
       "104101        NONTHABURI  Chain Volume Measures   \n",
       "104102        NONTHABURI  Chain Volume Measures   \n",
       "104103        NONTHABURI  Chain Volume Measures   \n",
       "\n",
       "                                         sector  year          value  \\\n",
       "0                                   Agriculture  1995    4743.874671   \n",
       "1                                   Agriculture  1995    4743.874671   \n",
       "2             Agriculture, forestry and fishing  1995    4743.874671   \n",
       "3                               Non-Agriculture  1995   46980.822010   \n",
       "4                                    Industrial  1995   15237.618280   \n",
       "...                                         ...   ...            ...   \n",
       "104099                                Education  2020    3691.860681   \n",
       "104100  Human health and social work activities  2020   27658.046170   \n",
       "104101       Arts, entertainment and recreation  2020   20494.773810   \n",
       "104102                 Other service activities  2020    4831.855440   \n",
       "104103          Gross provincial product (CVMs)  2020  242602.233500   \n",
       "\n",
       "       province_en  \n",
       "0        Khon Kaen  \n",
       "1        Khon Kaen  \n",
       "2        Khon Kaen  \n",
       "3        Khon Kaen  \n",
       "4        Khon Kaen  \n",
       "...            ...  \n",
       "104099  Nonthaburi  \n",
       "104100  Nonthaburi  \n",
       "104101  Nonthaburi  \n",
       "104102  Nonthaburi  \n",
       "104103  Nonthaburi  \n",
       "\n",
       "[104104 rows x 6 columns]"
      ]
     },
     "execution_count": 38,
     "metadata": {},
     "output_type": "execute_result"
    }
   ],
   "source": [
    "df_gpp"
   ]
  },
  {
   "cell_type": "code",
   "execution_count": 48,
   "id": "eebdf026",
   "metadata": {
    "scrolled": false
   },
   "outputs": [
    {
     "data": {
      "text/html": [
       "<div>\n",
       "<style scoped>\n",
       "    .dataframe tbody tr th:only-of-type {\n",
       "        vertical-align: middle;\n",
       "    }\n",
       "\n",
       "    .dataframe tbody tr th {\n",
       "        vertical-align: top;\n",
       "    }\n",
       "\n",
       "    .dataframe thead th {\n",
       "        text-align: right;\n",
       "    }\n",
       "</style>\n",
       "<table border=\"1\" class=\"dataframe\">\n",
       "  <thead>\n",
       "    <tr style=\"text-align: right;\">\n",
       "      <th></th>\n",
       "      <th>sector</th>\n",
       "      <th>year</th>\n",
       "      <th>value</th>\n",
       "      <th>province</th>\n",
       "    </tr>\n",
       "  </thead>\n",
       "  <tbody>\n",
       "    <tr>\n",
       "      <th>0</th>\n",
       "      <td>Agriculture</td>\n",
       "      <td>1995</td>\n",
       "      <td>4743.874671</td>\n",
       "      <td>Khon Kaen</td>\n",
       "    </tr>\n",
       "    <tr>\n",
       "      <th>1</th>\n",
       "      <td>Agriculture, forestry and fishing</td>\n",
       "      <td>1995</td>\n",
       "      <td>4743.874671</td>\n",
       "      <td>Khon Kaen</td>\n",
       "    </tr>\n",
       "    <tr>\n",
       "      <th>2</th>\n",
       "      <td>Non-Agriculture</td>\n",
       "      <td>1995</td>\n",
       "      <td>46980.822010</td>\n",
       "      <td>Khon Kaen</td>\n",
       "    </tr>\n",
       "    <tr>\n",
       "      <th>3</th>\n",
       "      <td>Industrial</td>\n",
       "      <td>1995</td>\n",
       "      <td>15237.618280</td>\n",
       "      <td>Khon Kaen</td>\n",
       "    </tr>\n",
       "    <tr>\n",
       "      <th>4</th>\n",
       "      <td>Mining and quarrying</td>\n",
       "      <td>1995</td>\n",
       "      <td>1279.474387</td>\n",
       "      <td>Khon Kaen</td>\n",
       "    </tr>\n",
       "    <tr>\n",
       "      <th>...</th>\n",
       "      <td>...</td>\n",
       "      <td>...</td>\n",
       "      <td>...</td>\n",
       "      <td>...</td>\n",
       "    </tr>\n",
       "    <tr>\n",
       "      <th>100071</th>\n",
       "      <td>Arts, entertainment and recreation</td>\n",
       "      <td>2020</td>\n",
       "      <td>15058.735200</td>\n",
       "      <td>Nonthaburi</td>\n",
       "    </tr>\n",
       "    <tr>\n",
       "      <th>100072</th>\n",
       "      <td>Other service activities</td>\n",
       "      <td>2020</td>\n",
       "      <td>6562.232980</td>\n",
       "      <td>Nonthaburi</td>\n",
       "    </tr>\n",
       "    <tr>\n",
       "      <th>100073</th>\n",
       "      <td>Gross provincial product (GPP)</td>\n",
       "      <td>2020</td>\n",
       "      <td>344981.659700</td>\n",
       "      <td>Nonthaburi</td>\n",
       "    </tr>\n",
       "    <tr>\n",
       "      <th>100074</th>\n",
       "      <td>GPP Per capita (Baht)</td>\n",
       "      <td>2020</td>\n",
       "      <td>193681.960000</td>\n",
       "      <td>Nonthaburi</td>\n",
       "    </tr>\n",
       "    <tr>\n",
       "      <th>100075</th>\n",
       "      <td>Population (1,000 persons)</td>\n",
       "      <td>2020</td>\n",
       "      <td>1781.176000</td>\n",
       "      <td>Nonthaburi</td>\n",
       "    </tr>\n",
       "  </tbody>\n",
       "</table>\n",
       "<p>52052 rows × 4 columns</p>\n",
       "</div>"
      ],
      "text/plain": [
       "                                    sector  year          value    province\n",
       "0                              Agriculture  1995    4743.874671   Khon Kaen\n",
       "1        Agriculture, forestry and fishing  1995    4743.874671   Khon Kaen\n",
       "2                          Non-Agriculture  1995   46980.822010   Khon Kaen\n",
       "3                               Industrial  1995   15237.618280   Khon Kaen\n",
       "4                     Mining and quarrying  1995    1279.474387   Khon Kaen\n",
       "...                                    ...   ...            ...         ...\n",
       "100071  Arts, entertainment and recreation  2020   15058.735200  Nonthaburi\n",
       "100072            Other service activities  2020    6562.232980  Nonthaburi\n",
       "100073      Gross provincial product (GPP)  2020  344981.659700  Nonthaburi\n",
       "100074               GPP Per capita (Baht)  2020  193681.960000  Nonthaburi\n",
       "100075          Population (1,000 persons)  2020    1781.176000  Nonthaburi\n",
       "\n",
       "[52052 rows x 4 columns]"
      ]
     },
     "execution_count": 48,
     "metadata": {},
     "output_type": "execute_result"
    }
   ],
   "source": [
    "# Remove and rename columns\n",
    "df_gpp = df_gpp.rename(columns = {'province_en': 'province'})\n",
    "df_gpp = df_gpp.drop(columns = 'province_nesdc_en')\n",
    "for col in ['type', 'sector', 'province']:\n",
    "    df_gpp[col] = df_gpp[col].astype('category')\n",
    "df_gpp = df_gpp.drop_duplicates().reset_index(drop = True)\n",
    "df_gpp_cur = df_gpp.query('type == \"Current Market Prices\"').drop(columns = 'type')\n",
    "df_gpp_cur"
   ]
  },
  {
   "cell_type": "code",
   "execution_count": 61,
   "id": "8ac1c282",
   "metadata": {},
   "outputs": [],
   "source": [
    "def cur_gpp(province, sector):\n",
    "    return df_gpp_cur.query('province == @province & sector == @sector').set_index('year')['value'].copy()\n",
    "\n",
    "def str_gpp(province, sector):\n",
    "    return cur_gpp(province, sector)/cur_gpp(province, 'Gross provincial product (GPP)') * 100"
   ]
  },
  {
   "cell_type": "code",
   "execution_count": 62,
   "id": "c8c2fee1",
   "metadata": {},
   "outputs": [
    {
     "data": {
      "text/plain": [
       "year\n",
       "1995    17.780933\n",
       "1996    18.622239\n",
       "1997    19.327869\n",
       "1998    30.014404\n",
       "1999    33.758410\n",
       "2000    34.789810\n",
       "2001    35.871898\n",
       "2002    35.255679\n",
       "2003    34.516593\n",
       "2004    33.129903\n",
       "2005    35.225520\n",
       "2006    30.414157\n",
       "2007    28.801893\n",
       "2008    27.984597\n",
       "2009    24.784913\n",
       "2010    26.523016\n",
       "2011    25.164634\n",
       "2012    23.490418\n",
       "2013    22.252561\n",
       "2014    20.490176\n",
       "2015    19.488550\n",
       "2016    19.003967\n",
       "2017    19.340414\n",
       "2018    17.870469\n",
       "2019    17.932884\n",
       "2020    17.348445\n",
       "Name: value, dtype: float64"
      ]
     },
     "execution_count": 62,
     "metadata": {},
     "output_type": "execute_result"
    }
   ],
   "source": [
    "str_gpp('Nonthaburi', 'Industrial')"
   ]
  },
  {
   "cell_type": "code",
   "execution_count": 126,
   "id": "ca91b61b",
   "metadata": {},
   "outputs": [],
   "source": [
    "import plotly.graph_objects as go\n",
    "\n",
    "\n",
    "def plot_str(province):\n",
    "    fig = go.Figure(layout=go.Layout(template='plotly_white', \n",
    "                                     width=600, \n",
    "                                     height=400\n",
    "                                    )\n",
    "                   )\n",
    "\n",
    "    fig.add_trace(go.Bar(name='Services', \n",
    "                         x=str_gpp(province, 'Services').index, \n",
    "                         y=str_gpp(province, 'Services'),\n",
    "                         marker_color='steelblue',\n",
    "                         marker_line_color='black'\n",
    "                        )\n",
    "                 )\n",
    "\n",
    "    fig.add_trace(go.Bar(name='Industrial', \n",
    "                         x=str_gpp(province, 'Industrial').index, \n",
    "                         y=str_gpp(province, 'Industrial'),\n",
    "                         marker_color='firebrick',\n",
    "                         marker_line_color='black'\n",
    "                        )\n",
    "                 )\n",
    "\n",
    "    fig.add_trace(go.Bar(name='Agriculture', \n",
    "                         x=str_gpp(province, 'Agriculture').index, \n",
    "                         y=str_gpp(province, 'Agriculture'),\n",
    "                         marker_color='darkgreen',\n",
    "                         marker_line_color='black'\n",
    "                        )\n",
    "                 )\n",
    "\n",
    "    # Change the bar mode\n",
    "    fig.update_layout(title={'text': province,\n",
    "                             'y':.8,\n",
    "                             'x':0.5,\n",
    "                             'xanchor': 'center',\n",
    "                             'yanchor': 'top'},\n",
    "                      yaxis={'title': 'Share of GPP (%)'}\n",
    "                     )\n",
    "    fig.update_layout(barmode='stack', hovermode=False, bargap=0)\n",
    "    fig.show()"
   ]
  },
  {
   "cell_type": "code",
   "execution_count": 128,
   "id": "dd46f5ee",
   "metadata": {},
   "outputs": [
    {
     "data": {
      "application/vnd.plotly.v1+json": {
       "config": {
        "plotlyServerURL": "https://plot.ly"
       },
       "data": [
        {
         "marker": {
          "color": "steelblue",
          "line": {
           "color": "black"
          }
         },
         "name": "Services",
         "type": "bar",
         "x": [
          "1995",
          "1996",
          "1997",
          "1998",
          "1999",
          "2000",
          "2001",
          "2002",
          "2003",
          "2004",
          "2005",
          "2006",
          "2007",
          "2008",
          "2009",
          "2010",
          "2011",
          "2012",
          "2013",
          "2014",
          "2015",
          "2016",
          "2017",
          "2018",
          "2019",
          "2020"
         ],
         "y": [
          57.29403286534448,
          58.81487905538171,
          59.12419871290015,
          55.543324892604836,
          57.83658461680604,
          50.80546662503293,
          51.37966216840252,
          51.56605932648759,
          49.46243256744537,
          48.96375256130263,
          46.90608205127081,
          44.449998059327314,
          46.07249891404208,
          45.453010655185075,
          47.72695396037177,
          44.955152125650365,
          43.29066284297736,
          45.58424974153606,
          45.009522910213164,
          45.92572763494102,
          48.43491113211961,
          50.07089073400615,
          51.30918019942362,
          54.77700852535064,
          56.384632609393734,
          56.34876480246693
         ]
        },
        {
         "marker": {
          "color": "firebrick",
          "line": {
           "color": "black"
          }
         },
         "name": "Industrial",
         "type": "bar",
         "x": [
          "1995",
          "1996",
          "1997",
          "1998",
          "1999",
          "2000",
          "2001",
          "2002",
          "2003",
          "2004",
          "2005",
          "2006",
          "2007",
          "2008",
          "2009",
          "2010",
          "2011",
          "2012",
          "2013",
          "2014",
          "2015",
          "2016",
          "2017",
          "2018",
          "2019",
          "2020"
         ],
         "y": [
          20.128711311661966,
          19.42928768191821,
          20.843503403463604,
          21.432144274972856,
          21.820173269724386,
          26.682815483573297,
          26.18667073901639,
          26.119244955169655,
          27.180706966000912,
          26.94183999425677,
          29.356846991668366,
          30.469703350241385,
          30.66378447810677,
          33.06306014169064,
          34.13292655052202,
          34.948603612893265,
          34.906867262074634,
          33.844831308143505,
          36.85209187657758,
          38.34870119021668,
          38.34180532206952,
          35.79730328442601,
          35.233674959835085,
          32.71210293449413,
          31.14973646823205,
          31.461628020693755
         ]
        },
        {
         "marker": {
          "color": "darkgreen",
          "line": {
           "color": "black"
          }
         },
         "name": "Agriculture",
         "type": "bar",
         "x": [
          "1995",
          "1996",
          "1997",
          "1998",
          "1999",
          "2000",
          "2001",
          "2002",
          "2003",
          "2004",
          "2005",
          "2006",
          "2007",
          "2008",
          "2009",
          "2010",
          "2011",
          "2012",
          "2013",
          "2014",
          "2015",
          "2016",
          "2017",
          "2018",
          "2019",
          "2020"
         ],
         "y": [
          22.577255822993557,
          21.755833262700083,
          20.032297883636236,
          23.024530832422307,
          20.34324211346957,
          22.511717931202575,
          22.433667063256987,
          22.314695681555982,
          23.356860491405325,
          24.094407459514063,
          23.73707093697208,
          25.080298620680587,
          23.263716631968766,
          21.4839291973468,
          18.1401194891062,
          20.09624423684482,
          21.802469903871614,
          20.57091893250643,
          18.138385213209254,
          15.725571148129076,
          13.223283545810885,
          14.131806014516457,
          13.457144811929247,
          12.510888528135823,
          12.46563093468778,
          12.189607151168993
         ]
        }
       ],
       "layout": {
        "bargap": 0,
        "barmode": "stack",
        "height": 400,
        "hovermode": false,
        "template": {
         "data": {
          "bar": [
           {
            "error_x": {
             "color": "#2a3f5f"
            },
            "error_y": {
             "color": "#2a3f5f"
            },
            "marker": {
             "line": {
              "color": "white",
              "width": 0.5
             },
             "pattern": {
              "fillmode": "overlay",
              "size": 10,
              "solidity": 0.2
             }
            },
            "type": "bar"
           }
          ],
          "barpolar": [
           {
            "marker": {
             "line": {
              "color": "white",
              "width": 0.5
             },
             "pattern": {
              "fillmode": "overlay",
              "size": 10,
              "solidity": 0.2
             }
            },
            "type": "barpolar"
           }
          ],
          "carpet": [
           {
            "aaxis": {
             "endlinecolor": "#2a3f5f",
             "gridcolor": "#C8D4E3",
             "linecolor": "#C8D4E3",
             "minorgridcolor": "#C8D4E3",
             "startlinecolor": "#2a3f5f"
            },
            "baxis": {
             "endlinecolor": "#2a3f5f",
             "gridcolor": "#C8D4E3",
             "linecolor": "#C8D4E3",
             "minorgridcolor": "#C8D4E3",
             "startlinecolor": "#2a3f5f"
            },
            "type": "carpet"
           }
          ],
          "choropleth": [
           {
            "colorbar": {
             "outlinewidth": 0,
             "ticks": ""
            },
            "type": "choropleth"
           }
          ],
          "contour": [
           {
            "colorbar": {
             "outlinewidth": 0,
             "ticks": ""
            },
            "colorscale": [
             [
              0,
              "#0d0887"
             ],
             [
              0.1111111111111111,
              "#46039f"
             ],
             [
              0.2222222222222222,
              "#7201a8"
             ],
             [
              0.3333333333333333,
              "#9c179e"
             ],
             [
              0.4444444444444444,
              "#bd3786"
             ],
             [
              0.5555555555555556,
              "#d8576b"
             ],
             [
              0.6666666666666666,
              "#ed7953"
             ],
             [
              0.7777777777777778,
              "#fb9f3a"
             ],
             [
              0.8888888888888888,
              "#fdca26"
             ],
             [
              1,
              "#f0f921"
             ]
            ],
            "type": "contour"
           }
          ],
          "contourcarpet": [
           {
            "colorbar": {
             "outlinewidth": 0,
             "ticks": ""
            },
            "type": "contourcarpet"
           }
          ],
          "heatmap": [
           {
            "colorbar": {
             "outlinewidth": 0,
             "ticks": ""
            },
            "colorscale": [
             [
              0,
              "#0d0887"
             ],
             [
              0.1111111111111111,
              "#46039f"
             ],
             [
              0.2222222222222222,
              "#7201a8"
             ],
             [
              0.3333333333333333,
              "#9c179e"
             ],
             [
              0.4444444444444444,
              "#bd3786"
             ],
             [
              0.5555555555555556,
              "#d8576b"
             ],
             [
              0.6666666666666666,
              "#ed7953"
             ],
             [
              0.7777777777777778,
              "#fb9f3a"
             ],
             [
              0.8888888888888888,
              "#fdca26"
             ],
             [
              1,
              "#f0f921"
             ]
            ],
            "type": "heatmap"
           }
          ],
          "heatmapgl": [
           {
            "colorbar": {
             "outlinewidth": 0,
             "ticks": ""
            },
            "colorscale": [
             [
              0,
              "#0d0887"
             ],
             [
              0.1111111111111111,
              "#46039f"
             ],
             [
              0.2222222222222222,
              "#7201a8"
             ],
             [
              0.3333333333333333,
              "#9c179e"
             ],
             [
              0.4444444444444444,
              "#bd3786"
             ],
             [
              0.5555555555555556,
              "#d8576b"
             ],
             [
              0.6666666666666666,
              "#ed7953"
             ],
             [
              0.7777777777777778,
              "#fb9f3a"
             ],
             [
              0.8888888888888888,
              "#fdca26"
             ],
             [
              1,
              "#f0f921"
             ]
            ],
            "type": "heatmapgl"
           }
          ],
          "histogram": [
           {
            "marker": {
             "pattern": {
              "fillmode": "overlay",
              "size": 10,
              "solidity": 0.2
             }
            },
            "type": "histogram"
           }
          ],
          "histogram2d": [
           {
            "colorbar": {
             "outlinewidth": 0,
             "ticks": ""
            },
            "colorscale": [
             [
              0,
              "#0d0887"
             ],
             [
              0.1111111111111111,
              "#46039f"
             ],
             [
              0.2222222222222222,
              "#7201a8"
             ],
             [
              0.3333333333333333,
              "#9c179e"
             ],
             [
              0.4444444444444444,
              "#bd3786"
             ],
             [
              0.5555555555555556,
              "#d8576b"
             ],
             [
              0.6666666666666666,
              "#ed7953"
             ],
             [
              0.7777777777777778,
              "#fb9f3a"
             ],
             [
              0.8888888888888888,
              "#fdca26"
             ],
             [
              1,
              "#f0f921"
             ]
            ],
            "type": "histogram2d"
           }
          ],
          "histogram2dcontour": [
           {
            "colorbar": {
             "outlinewidth": 0,
             "ticks": ""
            },
            "colorscale": [
             [
              0,
              "#0d0887"
             ],
             [
              0.1111111111111111,
              "#46039f"
             ],
             [
              0.2222222222222222,
              "#7201a8"
             ],
             [
              0.3333333333333333,
              "#9c179e"
             ],
             [
              0.4444444444444444,
              "#bd3786"
             ],
             [
              0.5555555555555556,
              "#d8576b"
             ],
             [
              0.6666666666666666,
              "#ed7953"
             ],
             [
              0.7777777777777778,
              "#fb9f3a"
             ],
             [
              0.8888888888888888,
              "#fdca26"
             ],
             [
              1,
              "#f0f921"
             ]
            ],
            "type": "histogram2dcontour"
           }
          ],
          "mesh3d": [
           {
            "colorbar": {
             "outlinewidth": 0,
             "ticks": ""
            },
            "type": "mesh3d"
           }
          ],
          "parcoords": [
           {
            "line": {
             "colorbar": {
              "outlinewidth": 0,
              "ticks": ""
             }
            },
            "type": "parcoords"
           }
          ],
          "pie": [
           {
            "automargin": true,
            "type": "pie"
           }
          ],
          "scatter": [
           {
            "fillpattern": {
             "fillmode": "overlay",
             "size": 10,
             "solidity": 0.2
            },
            "type": "scatter"
           }
          ],
          "scatter3d": [
           {
            "line": {
             "colorbar": {
              "outlinewidth": 0,
              "ticks": ""
             }
            },
            "marker": {
             "colorbar": {
              "outlinewidth": 0,
              "ticks": ""
             }
            },
            "type": "scatter3d"
           }
          ],
          "scattercarpet": [
           {
            "marker": {
             "colorbar": {
              "outlinewidth": 0,
              "ticks": ""
             }
            },
            "type": "scattercarpet"
           }
          ],
          "scattergeo": [
           {
            "marker": {
             "colorbar": {
              "outlinewidth": 0,
              "ticks": ""
             }
            },
            "type": "scattergeo"
           }
          ],
          "scattergl": [
           {
            "marker": {
             "colorbar": {
              "outlinewidth": 0,
              "ticks": ""
             }
            },
            "type": "scattergl"
           }
          ],
          "scattermapbox": [
           {
            "marker": {
             "colorbar": {
              "outlinewidth": 0,
              "ticks": ""
             }
            },
            "type": "scattermapbox"
           }
          ],
          "scatterpolar": [
           {
            "marker": {
             "colorbar": {
              "outlinewidth": 0,
              "ticks": ""
             }
            },
            "type": "scatterpolar"
           }
          ],
          "scatterpolargl": [
           {
            "marker": {
             "colorbar": {
              "outlinewidth": 0,
              "ticks": ""
             }
            },
            "type": "scatterpolargl"
           }
          ],
          "scatterternary": [
           {
            "marker": {
             "colorbar": {
              "outlinewidth": 0,
              "ticks": ""
             }
            },
            "type": "scatterternary"
           }
          ],
          "surface": [
           {
            "colorbar": {
             "outlinewidth": 0,
             "ticks": ""
            },
            "colorscale": [
             [
              0,
              "#0d0887"
             ],
             [
              0.1111111111111111,
              "#46039f"
             ],
             [
              0.2222222222222222,
              "#7201a8"
             ],
             [
              0.3333333333333333,
              "#9c179e"
             ],
             [
              0.4444444444444444,
              "#bd3786"
             ],
             [
              0.5555555555555556,
              "#d8576b"
             ],
             [
              0.6666666666666666,
              "#ed7953"
             ],
             [
              0.7777777777777778,
              "#fb9f3a"
             ],
             [
              0.8888888888888888,
              "#fdca26"
             ],
             [
              1,
              "#f0f921"
             ]
            ],
            "type": "surface"
           }
          ],
          "table": [
           {
            "cells": {
             "fill": {
              "color": "#EBF0F8"
             },
             "line": {
              "color": "white"
             }
            },
            "header": {
             "fill": {
              "color": "#C8D4E3"
             },
             "line": {
              "color": "white"
             }
            },
            "type": "table"
           }
          ]
         },
         "layout": {
          "annotationdefaults": {
           "arrowcolor": "#2a3f5f",
           "arrowhead": 0,
           "arrowwidth": 1
          },
          "autotypenumbers": "strict",
          "coloraxis": {
           "colorbar": {
            "outlinewidth": 0,
            "ticks": ""
           }
          },
          "colorscale": {
           "diverging": [
            [
             0,
             "#8e0152"
            ],
            [
             0.1,
             "#c51b7d"
            ],
            [
             0.2,
             "#de77ae"
            ],
            [
             0.3,
             "#f1b6da"
            ],
            [
             0.4,
             "#fde0ef"
            ],
            [
             0.5,
             "#f7f7f7"
            ],
            [
             0.6,
             "#e6f5d0"
            ],
            [
             0.7,
             "#b8e186"
            ],
            [
             0.8,
             "#7fbc41"
            ],
            [
             0.9,
             "#4d9221"
            ],
            [
             1,
             "#276419"
            ]
           ],
           "sequential": [
            [
             0,
             "#0d0887"
            ],
            [
             0.1111111111111111,
             "#46039f"
            ],
            [
             0.2222222222222222,
             "#7201a8"
            ],
            [
             0.3333333333333333,
             "#9c179e"
            ],
            [
             0.4444444444444444,
             "#bd3786"
            ],
            [
             0.5555555555555556,
             "#d8576b"
            ],
            [
             0.6666666666666666,
             "#ed7953"
            ],
            [
             0.7777777777777778,
             "#fb9f3a"
            ],
            [
             0.8888888888888888,
             "#fdca26"
            ],
            [
             1,
             "#f0f921"
            ]
           ],
           "sequentialminus": [
            [
             0,
             "#0d0887"
            ],
            [
             0.1111111111111111,
             "#46039f"
            ],
            [
             0.2222222222222222,
             "#7201a8"
            ],
            [
             0.3333333333333333,
             "#9c179e"
            ],
            [
             0.4444444444444444,
             "#bd3786"
            ],
            [
             0.5555555555555556,
             "#d8576b"
            ],
            [
             0.6666666666666666,
             "#ed7953"
            ],
            [
             0.7777777777777778,
             "#fb9f3a"
            ],
            [
             0.8888888888888888,
             "#fdca26"
            ],
            [
             1,
             "#f0f921"
            ]
           ]
          },
          "colorway": [
           "#636efa",
           "#EF553B",
           "#00cc96",
           "#ab63fa",
           "#FFA15A",
           "#19d3f3",
           "#FF6692",
           "#B6E880",
           "#FF97FF",
           "#FECB52"
          ],
          "font": {
           "color": "#2a3f5f"
          },
          "geo": {
           "bgcolor": "white",
           "lakecolor": "white",
           "landcolor": "white",
           "showlakes": true,
           "showland": true,
           "subunitcolor": "#C8D4E3"
          },
          "hoverlabel": {
           "align": "left"
          },
          "hovermode": "closest",
          "mapbox": {
           "style": "light"
          },
          "paper_bgcolor": "white",
          "plot_bgcolor": "white",
          "polar": {
           "angularaxis": {
            "gridcolor": "#EBF0F8",
            "linecolor": "#EBF0F8",
            "ticks": ""
           },
           "bgcolor": "white",
           "radialaxis": {
            "gridcolor": "#EBF0F8",
            "linecolor": "#EBF0F8",
            "ticks": ""
           }
          },
          "scene": {
           "xaxis": {
            "backgroundcolor": "white",
            "gridcolor": "#DFE8F3",
            "gridwidth": 2,
            "linecolor": "#EBF0F8",
            "showbackground": true,
            "ticks": "",
            "zerolinecolor": "#EBF0F8"
           },
           "yaxis": {
            "backgroundcolor": "white",
            "gridcolor": "#DFE8F3",
            "gridwidth": 2,
            "linecolor": "#EBF0F8",
            "showbackground": true,
            "ticks": "",
            "zerolinecolor": "#EBF0F8"
           },
           "zaxis": {
            "backgroundcolor": "white",
            "gridcolor": "#DFE8F3",
            "gridwidth": 2,
            "linecolor": "#EBF0F8",
            "showbackground": true,
            "ticks": "",
            "zerolinecolor": "#EBF0F8"
           }
          },
          "shapedefaults": {
           "line": {
            "color": "#2a3f5f"
           }
          },
          "ternary": {
           "aaxis": {
            "gridcolor": "#DFE8F3",
            "linecolor": "#A2B1C6",
            "ticks": ""
           },
           "baxis": {
            "gridcolor": "#DFE8F3",
            "linecolor": "#A2B1C6",
            "ticks": ""
           },
           "bgcolor": "white",
           "caxis": {
            "gridcolor": "#DFE8F3",
            "linecolor": "#A2B1C6",
            "ticks": ""
           }
          },
          "title": {
           "x": 0.05
          },
          "xaxis": {
           "automargin": true,
           "gridcolor": "#EBF0F8",
           "linecolor": "#EBF0F8",
           "ticks": "",
           "title": {
            "standoff": 15
           },
           "zerolinecolor": "#EBF0F8",
           "zerolinewidth": 2
          },
          "yaxis": {
           "automargin": true,
           "gridcolor": "#EBF0F8",
           "linecolor": "#EBF0F8",
           "ticks": "",
           "title": {
            "standoff": 15
           },
           "zerolinecolor": "#EBF0F8",
           "zerolinewidth": 2
          }
         }
        },
        "title": {
         "text": "Songkhla",
         "x": 0.5,
         "xanchor": "center",
         "y": 0.8,
         "yanchor": "top"
        },
        "width": 600,
        "yaxis": {
         "title": {
          "text": "Share of GPP (%)"
         }
        }
       }
      },
      "text/html": [
       "<div>                            <div id=\"0c8d21cf-dbc1-4d30-9b1f-552acd1b14c8\" class=\"plotly-graph-div\" style=\"height:400px; width:600px;\"></div>            <script type=\"text/javascript\">                require([\"plotly\"], function(Plotly) {                    window.PLOTLYENV=window.PLOTLYENV || {};                                    if (document.getElementById(\"0c8d21cf-dbc1-4d30-9b1f-552acd1b14c8\")) {                    Plotly.newPlot(                        \"0c8d21cf-dbc1-4d30-9b1f-552acd1b14c8\",                        [{\"marker\":{\"color\":\"steelblue\",\"line\":{\"color\":\"black\"}},\"name\":\"Services\",\"x\":[\"1995\",\"1996\",\"1997\",\"1998\",\"1999\",\"2000\",\"2001\",\"2002\",\"2003\",\"2004\",\"2005\",\"2006\",\"2007\",\"2008\",\"2009\",\"2010\",\"2011\",\"2012\",\"2013\",\"2014\",\"2015\",\"2016\",\"2017\",\"2018\",\"2019\",\"2020\"],\"y\":[57.29403286534448,58.81487905538171,59.12419871290015,55.543324892604836,57.83658461680604,50.80546662503293,51.37966216840252,51.56605932648759,49.46243256744537,48.96375256130263,46.90608205127081,44.449998059327314,46.07249891404208,45.453010655185075,47.72695396037177,44.955152125650365,43.29066284297736,45.58424974153606,45.009522910213164,45.92572763494102,48.43491113211961,50.07089073400615,51.30918019942362,54.77700852535064,56.384632609393734,56.34876480246693],\"type\":\"bar\"},{\"marker\":{\"color\":\"firebrick\",\"line\":{\"color\":\"black\"}},\"name\":\"Industrial\",\"x\":[\"1995\",\"1996\",\"1997\",\"1998\",\"1999\",\"2000\",\"2001\",\"2002\",\"2003\",\"2004\",\"2005\",\"2006\",\"2007\",\"2008\",\"2009\",\"2010\",\"2011\",\"2012\",\"2013\",\"2014\",\"2015\",\"2016\",\"2017\",\"2018\",\"2019\",\"2020\"],\"y\":[20.128711311661966,19.42928768191821,20.843503403463604,21.432144274972856,21.820173269724386,26.682815483573297,26.18667073901639,26.119244955169655,27.180706966000912,26.94183999425677,29.356846991668366,30.469703350241385,30.66378447810677,33.06306014169064,34.13292655052202,34.948603612893265,34.906867262074634,33.844831308143505,36.85209187657758,38.34870119021668,38.34180532206952,35.79730328442601,35.233674959835085,32.71210293449413,31.14973646823205,31.461628020693755],\"type\":\"bar\"},{\"marker\":{\"color\":\"darkgreen\",\"line\":{\"color\":\"black\"}},\"name\":\"Agriculture\",\"x\":[\"1995\",\"1996\",\"1997\",\"1998\",\"1999\",\"2000\",\"2001\",\"2002\",\"2003\",\"2004\",\"2005\",\"2006\",\"2007\",\"2008\",\"2009\",\"2010\",\"2011\",\"2012\",\"2013\",\"2014\",\"2015\",\"2016\",\"2017\",\"2018\",\"2019\",\"2020\"],\"y\":[22.577255822993557,21.755833262700083,20.032297883636236,23.024530832422307,20.34324211346957,22.511717931202575,22.433667063256987,22.314695681555982,23.356860491405325,24.094407459514063,23.73707093697208,25.080298620680587,23.263716631968766,21.4839291973468,18.1401194891062,20.09624423684482,21.802469903871614,20.57091893250643,18.138385213209254,15.725571148129076,13.223283545810885,14.131806014516457,13.457144811929247,12.510888528135823,12.46563093468778,12.189607151168993],\"type\":\"bar\"}],                        {\"height\":400,\"template\":{\"data\":{\"barpolar\":[{\"marker\":{\"line\":{\"color\":\"white\",\"width\":0.5},\"pattern\":{\"fillmode\":\"overlay\",\"size\":10,\"solidity\":0.2}},\"type\":\"barpolar\"}],\"bar\":[{\"error_x\":{\"color\":\"#2a3f5f\"},\"error_y\":{\"color\":\"#2a3f5f\"},\"marker\":{\"line\":{\"color\":\"white\",\"width\":0.5},\"pattern\":{\"fillmode\":\"overlay\",\"size\":10,\"solidity\":0.2}},\"type\":\"bar\"}],\"carpet\":[{\"aaxis\":{\"endlinecolor\":\"#2a3f5f\",\"gridcolor\":\"#C8D4E3\",\"linecolor\":\"#C8D4E3\",\"minorgridcolor\":\"#C8D4E3\",\"startlinecolor\":\"#2a3f5f\"},\"baxis\":{\"endlinecolor\":\"#2a3f5f\",\"gridcolor\":\"#C8D4E3\",\"linecolor\":\"#C8D4E3\",\"minorgridcolor\":\"#C8D4E3\",\"startlinecolor\":\"#2a3f5f\"},\"type\":\"carpet\"}],\"choropleth\":[{\"colorbar\":{\"outlinewidth\":0,\"ticks\":\"\"},\"type\":\"choropleth\"}],\"contourcarpet\":[{\"colorbar\":{\"outlinewidth\":0,\"ticks\":\"\"},\"type\":\"contourcarpet\"}],\"contour\":[{\"colorbar\":{\"outlinewidth\":0,\"ticks\":\"\"},\"colorscale\":[[0.0,\"#0d0887\"],[0.1111111111111111,\"#46039f\"],[0.2222222222222222,\"#7201a8\"],[0.3333333333333333,\"#9c179e\"],[0.4444444444444444,\"#bd3786\"],[0.5555555555555556,\"#d8576b\"],[0.6666666666666666,\"#ed7953\"],[0.7777777777777778,\"#fb9f3a\"],[0.8888888888888888,\"#fdca26\"],[1.0,\"#f0f921\"]],\"type\":\"contour\"}],\"heatmapgl\":[{\"colorbar\":{\"outlinewidth\":0,\"ticks\":\"\"},\"colorscale\":[[0.0,\"#0d0887\"],[0.1111111111111111,\"#46039f\"],[0.2222222222222222,\"#7201a8\"],[0.3333333333333333,\"#9c179e\"],[0.4444444444444444,\"#bd3786\"],[0.5555555555555556,\"#d8576b\"],[0.6666666666666666,\"#ed7953\"],[0.7777777777777778,\"#fb9f3a\"],[0.8888888888888888,\"#fdca26\"],[1.0,\"#f0f921\"]],\"type\":\"heatmapgl\"}],\"heatmap\":[{\"colorbar\":{\"outlinewidth\":0,\"ticks\":\"\"},\"colorscale\":[[0.0,\"#0d0887\"],[0.1111111111111111,\"#46039f\"],[0.2222222222222222,\"#7201a8\"],[0.3333333333333333,\"#9c179e\"],[0.4444444444444444,\"#bd3786\"],[0.5555555555555556,\"#d8576b\"],[0.6666666666666666,\"#ed7953\"],[0.7777777777777778,\"#fb9f3a\"],[0.8888888888888888,\"#fdca26\"],[1.0,\"#f0f921\"]],\"type\":\"heatmap\"}],\"histogram2dcontour\":[{\"colorbar\":{\"outlinewidth\":0,\"ticks\":\"\"},\"colorscale\":[[0.0,\"#0d0887\"],[0.1111111111111111,\"#46039f\"],[0.2222222222222222,\"#7201a8\"],[0.3333333333333333,\"#9c179e\"],[0.4444444444444444,\"#bd3786\"],[0.5555555555555556,\"#d8576b\"],[0.6666666666666666,\"#ed7953\"],[0.7777777777777778,\"#fb9f3a\"],[0.8888888888888888,\"#fdca26\"],[1.0,\"#f0f921\"]],\"type\":\"histogram2dcontour\"}],\"histogram2d\":[{\"colorbar\":{\"outlinewidth\":0,\"ticks\":\"\"},\"colorscale\":[[0.0,\"#0d0887\"],[0.1111111111111111,\"#46039f\"],[0.2222222222222222,\"#7201a8\"],[0.3333333333333333,\"#9c179e\"],[0.4444444444444444,\"#bd3786\"],[0.5555555555555556,\"#d8576b\"],[0.6666666666666666,\"#ed7953\"],[0.7777777777777778,\"#fb9f3a\"],[0.8888888888888888,\"#fdca26\"],[1.0,\"#f0f921\"]],\"type\":\"histogram2d\"}],\"histogram\":[{\"marker\":{\"pattern\":{\"fillmode\":\"overlay\",\"size\":10,\"solidity\":0.2}},\"type\":\"histogram\"}],\"mesh3d\":[{\"colorbar\":{\"outlinewidth\":0,\"ticks\":\"\"},\"type\":\"mesh3d\"}],\"parcoords\":[{\"line\":{\"colorbar\":{\"outlinewidth\":0,\"ticks\":\"\"}},\"type\":\"parcoords\"}],\"pie\":[{\"automargin\":true,\"type\":\"pie\"}],\"scatter3d\":[{\"line\":{\"colorbar\":{\"outlinewidth\":0,\"ticks\":\"\"}},\"marker\":{\"colorbar\":{\"outlinewidth\":0,\"ticks\":\"\"}},\"type\":\"scatter3d\"}],\"scattercarpet\":[{\"marker\":{\"colorbar\":{\"outlinewidth\":0,\"ticks\":\"\"}},\"type\":\"scattercarpet\"}],\"scattergeo\":[{\"marker\":{\"colorbar\":{\"outlinewidth\":0,\"ticks\":\"\"}},\"type\":\"scattergeo\"}],\"scattergl\":[{\"marker\":{\"colorbar\":{\"outlinewidth\":0,\"ticks\":\"\"}},\"type\":\"scattergl\"}],\"scattermapbox\":[{\"marker\":{\"colorbar\":{\"outlinewidth\":0,\"ticks\":\"\"}},\"type\":\"scattermapbox\"}],\"scatterpolargl\":[{\"marker\":{\"colorbar\":{\"outlinewidth\":0,\"ticks\":\"\"}},\"type\":\"scatterpolargl\"}],\"scatterpolar\":[{\"marker\":{\"colorbar\":{\"outlinewidth\":0,\"ticks\":\"\"}},\"type\":\"scatterpolar\"}],\"scatter\":[{\"fillpattern\":{\"fillmode\":\"overlay\",\"size\":10,\"solidity\":0.2},\"type\":\"scatter\"}],\"scatterternary\":[{\"marker\":{\"colorbar\":{\"outlinewidth\":0,\"ticks\":\"\"}},\"type\":\"scatterternary\"}],\"surface\":[{\"colorbar\":{\"outlinewidth\":0,\"ticks\":\"\"},\"colorscale\":[[0.0,\"#0d0887\"],[0.1111111111111111,\"#46039f\"],[0.2222222222222222,\"#7201a8\"],[0.3333333333333333,\"#9c179e\"],[0.4444444444444444,\"#bd3786\"],[0.5555555555555556,\"#d8576b\"],[0.6666666666666666,\"#ed7953\"],[0.7777777777777778,\"#fb9f3a\"],[0.8888888888888888,\"#fdca26\"],[1.0,\"#f0f921\"]],\"type\":\"surface\"}],\"table\":[{\"cells\":{\"fill\":{\"color\":\"#EBF0F8\"},\"line\":{\"color\":\"white\"}},\"header\":{\"fill\":{\"color\":\"#C8D4E3\"},\"line\":{\"color\":\"white\"}},\"type\":\"table\"}]},\"layout\":{\"annotationdefaults\":{\"arrowcolor\":\"#2a3f5f\",\"arrowhead\":0,\"arrowwidth\":1},\"autotypenumbers\":\"strict\",\"coloraxis\":{\"colorbar\":{\"outlinewidth\":0,\"ticks\":\"\"}},\"colorscale\":{\"diverging\":[[0,\"#8e0152\"],[0.1,\"#c51b7d\"],[0.2,\"#de77ae\"],[0.3,\"#f1b6da\"],[0.4,\"#fde0ef\"],[0.5,\"#f7f7f7\"],[0.6,\"#e6f5d0\"],[0.7,\"#b8e186\"],[0.8,\"#7fbc41\"],[0.9,\"#4d9221\"],[1,\"#276419\"]],\"sequential\":[[0.0,\"#0d0887\"],[0.1111111111111111,\"#46039f\"],[0.2222222222222222,\"#7201a8\"],[0.3333333333333333,\"#9c179e\"],[0.4444444444444444,\"#bd3786\"],[0.5555555555555556,\"#d8576b\"],[0.6666666666666666,\"#ed7953\"],[0.7777777777777778,\"#fb9f3a\"],[0.8888888888888888,\"#fdca26\"],[1.0,\"#f0f921\"]],\"sequentialminus\":[[0.0,\"#0d0887\"],[0.1111111111111111,\"#46039f\"],[0.2222222222222222,\"#7201a8\"],[0.3333333333333333,\"#9c179e\"],[0.4444444444444444,\"#bd3786\"],[0.5555555555555556,\"#d8576b\"],[0.6666666666666666,\"#ed7953\"],[0.7777777777777778,\"#fb9f3a\"],[0.8888888888888888,\"#fdca26\"],[1.0,\"#f0f921\"]]},\"colorway\":[\"#636efa\",\"#EF553B\",\"#00cc96\",\"#ab63fa\",\"#FFA15A\",\"#19d3f3\",\"#FF6692\",\"#B6E880\",\"#FF97FF\",\"#FECB52\"],\"font\":{\"color\":\"#2a3f5f\"},\"geo\":{\"bgcolor\":\"white\",\"lakecolor\":\"white\",\"landcolor\":\"white\",\"showlakes\":true,\"showland\":true,\"subunitcolor\":\"#C8D4E3\"},\"hoverlabel\":{\"align\":\"left\"},\"hovermode\":\"closest\",\"mapbox\":{\"style\":\"light\"},\"paper_bgcolor\":\"white\",\"plot_bgcolor\":\"white\",\"polar\":{\"angularaxis\":{\"gridcolor\":\"#EBF0F8\",\"linecolor\":\"#EBF0F8\",\"ticks\":\"\"},\"bgcolor\":\"white\",\"radialaxis\":{\"gridcolor\":\"#EBF0F8\",\"linecolor\":\"#EBF0F8\",\"ticks\":\"\"}},\"scene\":{\"xaxis\":{\"backgroundcolor\":\"white\",\"gridcolor\":\"#DFE8F3\",\"gridwidth\":2,\"linecolor\":\"#EBF0F8\",\"showbackground\":true,\"ticks\":\"\",\"zerolinecolor\":\"#EBF0F8\"},\"yaxis\":{\"backgroundcolor\":\"white\",\"gridcolor\":\"#DFE8F3\",\"gridwidth\":2,\"linecolor\":\"#EBF0F8\",\"showbackground\":true,\"ticks\":\"\",\"zerolinecolor\":\"#EBF0F8\"},\"zaxis\":{\"backgroundcolor\":\"white\",\"gridcolor\":\"#DFE8F3\",\"gridwidth\":2,\"linecolor\":\"#EBF0F8\",\"showbackground\":true,\"ticks\":\"\",\"zerolinecolor\":\"#EBF0F8\"}},\"shapedefaults\":{\"line\":{\"color\":\"#2a3f5f\"}},\"ternary\":{\"aaxis\":{\"gridcolor\":\"#DFE8F3\",\"linecolor\":\"#A2B1C6\",\"ticks\":\"\"},\"baxis\":{\"gridcolor\":\"#DFE8F3\",\"linecolor\":\"#A2B1C6\",\"ticks\":\"\"},\"bgcolor\":\"white\",\"caxis\":{\"gridcolor\":\"#DFE8F3\",\"linecolor\":\"#A2B1C6\",\"ticks\":\"\"}},\"title\":{\"x\":0.05},\"xaxis\":{\"automargin\":true,\"gridcolor\":\"#EBF0F8\",\"linecolor\":\"#EBF0F8\",\"ticks\":\"\",\"title\":{\"standoff\":15},\"zerolinecolor\":\"#EBF0F8\",\"zerolinewidth\":2},\"yaxis\":{\"automargin\":true,\"gridcolor\":\"#EBF0F8\",\"linecolor\":\"#EBF0F8\",\"ticks\":\"\",\"title\":{\"standoff\":15},\"zerolinecolor\":\"#EBF0F8\",\"zerolinewidth\":2}}},\"width\":600,\"title\":{\"text\":\"Songkhla\",\"y\":0.8,\"x\":0.5,\"xanchor\":\"center\",\"yanchor\":\"top\"},\"yaxis\":{\"title\":{\"text\":\"Share of GPP (%)\"}},\"barmode\":\"stack\",\"hovermode\":false,\"bargap\":0},                        {\"responsive\": true}                    ).then(function(){\n",
       "                            \n",
       "var gd = document.getElementById('0c8d21cf-dbc1-4d30-9b1f-552acd1b14c8');\n",
       "var x = new MutationObserver(function (mutations, observer) {{\n",
       "        var display = window.getComputedStyle(gd).display;\n",
       "        if (!display || display === 'none') {{\n",
       "            console.log([gd, 'removed!']);\n",
       "            Plotly.purge(gd);\n",
       "            observer.disconnect();\n",
       "        }}\n",
       "}});\n",
       "\n",
       "// Listen for the removal of the full notebook cells\n",
       "var notebookContainer = gd.closest('#notebook-container');\n",
       "if (notebookContainer) {{\n",
       "    x.observe(notebookContainer, {childList: true});\n",
       "}}\n",
       "\n",
       "// Listen for the clearing of the current output cell\n",
       "var outputEl = gd.closest('.output');\n",
       "if (outputEl) {{\n",
       "    x.observe(outputEl, {childList: true});\n",
       "}}\n",
       "\n",
       "                        })                };                });            </script>        </div>"
      ]
     },
     "metadata": {},
     "output_type": "display_data"
    }
   ],
   "source": [
    "plot_str('Songkhla')"
   ]
  }
 ],
 "metadata": {
  "kernelspec": {
   "display_name": "Python 3 (ipykernel)",
   "language": "python",
   "name": "python3"
  },
  "language_info": {
   "codemirror_mode": {
    "name": "ipython",
    "version": 3
   },
   "file_extension": ".py",
   "mimetype": "text/x-python",
   "name": "python",
   "nbconvert_exporter": "python",
   "pygments_lexer": "ipython3",
   "version": "3.9.16"
  }
 },
 "nbformat": 4,
 "nbformat_minor": 5
}

{
 "cells": [
  {
   "cell_type": "code",
   "execution_count": 8,
   "id": "702a98e4",
   "metadata": {},
   "outputs": [],
   "source": [
    "import pandas as pd\n",
    "import plotly\n",
    "import plotly.graph_objects as go\n",
    "import quandl\n",
    "\n",
    "import api_bank_of_thailand_0_2 as ab\n",
    "import api_moc as am"
   ]
  },
  {
   "cell_type": "code",
   "execution_count": 4,
   "id": "3e5642b3",
   "metadata": {},
   "outputs": [],
   "source": [
    "am.get_cpi_series(series_name = \"CPI\", series_id = \"0000000000000000\")\n",
    "dict_cpi_raw_food = {'Raw Food': '9100000000000000', \n",
    "                     'Meat (Fresh)': '1121100000000000', \n",
    "                     'Poultry (Fresh)': '1122100000000000', \n",
    "                     'Eggs': '1131000000000000'}\n",
    "\n",
    "\n"
   ]
  },
  {
   "cell_type": "code",
   "execution_count": 9,
   "id": "1bb20794",
   "metadata": {},
   "outputs": [
    {
     "ename": "TypeError",
     "evalue": "get_cpi_df() got an unexpected keyword argument 'dict_cpi_series_code'",
     "output_type": "error",
     "traceback": [
      "\u001b[1;31m---------------------------------------------------------------------------\u001b[0m",
      "\u001b[1;31mTypeError\u001b[0m                                 Traceback (most recent call last)",
      "\u001b[1;32m~\\AppData\\Local\\Temp\\ipykernel_3860\\749696388.py\u001b[0m in \u001b[0;36m<module>\u001b[1;34m\u001b[0m\n\u001b[1;32m----> 1\u001b[1;33m \u001b[0mam\u001b[0m\u001b[1;33m.\u001b[0m\u001b[0mget_cpi_df\u001b[0m\u001b[1;33m(\u001b[0m\u001b[0mdict_cpi_series_code\u001b[0m \u001b[1;33m=\u001b[0m \u001b[0mdict_cpi_raw_food\u001b[0m\u001b[1;33m)\u001b[0m\u001b[1;33m\u001b[0m\u001b[1;33m\u001b[0m\u001b[0m\n\u001b[0m",
      "\u001b[1;31mTypeError\u001b[0m: get_cpi_df() got an unexpected keyword argument 'dict_cpi_series_code'"
     ]
    }
   ],
   "source": [
    "am.get_cpi_df(dict_cpi_series_code = dict_cpi_raw_food)\n"
   ]
  },
  {
   "cell_type": "code",
   "execution_count": null,
   "id": "981b8f52",
   "metadata": {},
   "outputs": [],
   "source": []
  }
 ],
 "metadata": {
  "kernelspec": {
   "display_name": "Python 3 (ipykernel)",
   "language": "python",
   "name": "python3"
  },
  "language_info": {
   "codemirror_mode": {
    "name": "ipython",
    "version": 3
   },
   "file_extension": ".py",
   "mimetype": "text/x-python",
   "name": "python",
   "nbconvert_exporter": "python",
   "pygments_lexer": "ipython3",
   "version": "3.9.16"
  }
 },
 "nbformat": 4,
 "nbformat_minor": 5
}

{
 "cells": [
  {
   "cell_type": "code",
   "execution_count": 2,
   "id": "55ecaab4",
   "metadata": {},
   "outputs": [],
   "source": [
    "import pandas as pd"
   ]
  },
  {
   "cell_type": "code",
   "execution_count": 3,
   "id": "637976af",
   "metadata": {},
   "outputs": [],
   "source": [
    "df_tha = pd.read_excel('https://github.com/phat-ap/econvis/blob/main/data/tha_provinces.xlsx?raw=true')"
   ]
  },
  {
   "cell_type": "code",
   "execution_count": 8,
   "id": "7aea2507",
   "metadata": {},
   "outputs": [
    {
     "data": {
      "text/plain": [
       "128.6483111171489"
      ]
     },
     "execution_count": 8,
     "metadata": {},
     "output_type": "execute_result"
    }
   ],
   "source": [
    "df_tha.pop_2022.sum()/df_tha.area_sqm.sum()"
   ]
  },
  {
   "cell_type": "code",
   "execution_count": 30,
   "id": "1dce84e9",
   "metadata": {},
   "outputs": [],
   "source": [
    "df_tha['pop_density'] = df_tha.pop_2022 / df_tha.area_sqm"
   ]
  },
  {
   "cell_type": "code",
   "execution_count": 50,
   "id": "a5917a4b",
   "metadata": {},
   "outputs": [
    {
     "data": {
      "text/html": [
       "<div>\n",
       "<style scoped>\n",
       "    .dataframe tbody tr th:only-of-type {\n",
       "        vertical-align: middle;\n",
       "    }\n",
       "\n",
       "    .dataframe tbody tr th {\n",
       "        vertical-align: top;\n",
       "    }\n",
       "\n",
       "    .dataframe thead th {\n",
       "        text-align: right;\n",
       "    }\n",
       "</style>\n",
       "<table border=\"1\" class=\"dataframe\">\n",
       "  <thead>\n",
       "    <tr style=\"text-align: right;\">\n",
       "      <th></th>\n",
       "      <th>name_en</th>\n",
       "      <th>name_th</th>\n",
       "      <th>HS</th>\n",
       "      <th>ISO</th>\n",
       "      <th>FIPS</th>\n",
       "      <th>region</th>\n",
       "      <th>pop_2022</th>\n",
       "      <th>pop_2022_male</th>\n",
       "      <th>pop_2022_female</th>\n",
       "      <th>n_households</th>\n",
       "      <th>area_sqm</th>\n",
       "      <th>pop_density</th>\n",
       "    </tr>\n",
       "  </thead>\n",
       "  <tbody>\n",
       "    <tr>\n",
       "      <th>0</th>\n",
       "      <td>Amnat Charoen</td>\n",
       "      <td>อำนาจเจริญ</td>\n",
       "      <td>ACR</td>\n",
       "      <td>TH-37</td>\n",
       "      <td>TH77</td>\n",
       "      <td>Northeastern</td>\n",
       "      <td>375382</td>\n",
       "      <td>186594</td>\n",
       "      <td>188788</td>\n",
       "      <td>125118</td>\n",
       "      <td>3161.248</td>\n",
       "      <td>118.744875</td>\n",
       "    </tr>\n",
       "    <tr>\n",
       "      <th>1</th>\n",
       "      <td>Ang Thong</td>\n",
       "      <td>อ่างทอง</td>\n",
       "      <td>ATG</td>\n",
       "      <td>TH-15</td>\n",
       "      <td>TH35</td>\n",
       "      <td>Central</td>\n",
       "      <td>272587</td>\n",
       "      <td>130337</td>\n",
       "      <td>142250</td>\n",
       "      <td>102932</td>\n",
       "      <td>968.372</td>\n",
       "      <td>281.489965</td>\n",
       "    </tr>\n",
       "    <tr>\n",
       "      <th>2</th>\n",
       "      <td>Bangkok</td>\n",
       "      <td>กรุงเทพมหานคร</td>\n",
       "      <td>BKK</td>\n",
       "      <td>TH-10</td>\n",
       "      <td>TH40</td>\n",
       "      <td>Bangkok and Vicinities</td>\n",
       "      <td>5494932</td>\n",
       "      <td>2571974</td>\n",
       "      <td>2922958</td>\n",
       "      <td>3197865</td>\n",
       "      <td>1568.737</td>\n",
       "      <td>3502.774525</td>\n",
       "    </tr>\n",
       "    <tr>\n",
       "      <th>3</th>\n",
       "      <td>Bueng Kan</td>\n",
       "      <td>บึงกาฬ</td>\n",
       "      <td>BKN</td>\n",
       "      <td>TH-38</td>\n",
       "      <td>TH81</td>\n",
       "      <td>Northeastern</td>\n",
       "      <td>421684</td>\n",
       "      <td>211158</td>\n",
       "      <td>210526</td>\n",
       "      <td>143368</td>\n",
       "      <td>4305.000</td>\n",
       "      <td>97.952149</td>\n",
       "    </tr>\n",
       "    <tr>\n",
       "      <th>4</th>\n",
       "      <td>Buriram</td>\n",
       "      <td>บุรีรัมย์</td>\n",
       "      <td>BRM</td>\n",
       "      <td>TH-31</td>\n",
       "      <td>TH28</td>\n",
       "      <td>Northeastern</td>\n",
       "      <td>1576915</td>\n",
       "      <td>781530</td>\n",
       "      <td>795385</td>\n",
       "      <td>490644</td>\n",
       "      <td>10322.885</td>\n",
       "      <td>152.759137</td>\n",
       "    </tr>\n",
       "    <tr>\n",
       "      <th>...</th>\n",
       "      <td>...</td>\n",
       "      <td>...</td>\n",
       "      <td>...</td>\n",
       "      <td>...</td>\n",
       "      <td>...</td>\n",
       "      <td>...</td>\n",
       "      <td>...</td>\n",
       "      <td>...</td>\n",
       "      <td>...</td>\n",
       "      <td>...</td>\n",
       "      <td>...</td>\n",
       "      <td>...</td>\n",
       "    </tr>\n",
       "    <tr>\n",
       "      <th>72</th>\n",
       "      <td>Udon Thani</td>\n",
       "      <td>อุดรธานี</td>\n",
       "      <td>UDN</td>\n",
       "      <td>TH-41</td>\n",
       "      <td>TH76</td>\n",
       "      <td>Northeastern</td>\n",
       "      <td>1563048</td>\n",
       "      <td>772344</td>\n",
       "      <td>790704</td>\n",
       "      <td>548525</td>\n",
       "      <td>11730.302</td>\n",
       "      <td>133.248743</td>\n",
       "    </tr>\n",
       "    <tr>\n",
       "      <th>73</th>\n",
       "      <td>Uthai Thani</td>\n",
       "      <td>อุทัยธานี</td>\n",
       "      <td>UTI</td>\n",
       "      <td>TH-61</td>\n",
       "      <td>TH15</td>\n",
       "      <td>Northern</td>\n",
       "      <td>323860</td>\n",
       "      <td>158139</td>\n",
       "      <td>165721</td>\n",
       "      <td>129514</td>\n",
       "      <td>6730.246</td>\n",
       "      <td>48.120084</td>\n",
       "    </tr>\n",
       "    <tr>\n",
       "      <th>74</th>\n",
       "      <td>Uttaradit</td>\n",
       "      <td>อุตรดิตถ์</td>\n",
       "      <td>UTD</td>\n",
       "      <td>TH-53</td>\n",
       "      <td>TH10</td>\n",
       "      <td>Northern</td>\n",
       "      <td>442949</td>\n",
       "      <td>215648</td>\n",
       "      <td>227301</td>\n",
       "      <td>175738</td>\n",
       "      <td>7838.592</td>\n",
       "      <td>56.508745</td>\n",
       "    </tr>\n",
       "    <tr>\n",
       "      <th>75</th>\n",
       "      <td>Yala</td>\n",
       "      <td>ยะลา</td>\n",
       "      <td>YLA</td>\n",
       "      <td>TH-95</td>\n",
       "      <td>TH70</td>\n",
       "      <td>Southern</td>\n",
       "      <td>545913</td>\n",
       "      <td>271480</td>\n",
       "      <td>274433</td>\n",
       "      <td>175981</td>\n",
       "      <td>4521.078</td>\n",
       "      <td>120.748414</td>\n",
       "    </tr>\n",
       "    <tr>\n",
       "      <th>76</th>\n",
       "      <td>Yasothon</td>\n",
       "      <td>ยโสธร</td>\n",
       "      <td>YST</td>\n",
       "      <td>TH-35</td>\n",
       "      <td>TH72</td>\n",
       "      <td>Northeastern</td>\n",
       "      <td>531599</td>\n",
       "      <td>264756</td>\n",
       "      <td>266843</td>\n",
       "      <td>183618</td>\n",
       "      <td>4161.664</td>\n",
       "      <td>127.737126</td>\n",
       "    </tr>\n",
       "  </tbody>\n",
       "</table>\n",
       "<p>77 rows × 12 columns</p>\n",
       "</div>"
      ],
      "text/plain": [
       "          name_en        name_th   HS    ISO  FIPS                  region  \\\n",
       "0   Amnat Charoen     อำนาจเจริญ  ACR  TH-37  TH77            Northeastern   \n",
       "1       Ang Thong        อ่างทอง  ATG  TH-15  TH35                 Central   \n",
       "2         Bangkok  กรุงเทพมหานคร  BKK  TH-10  TH40  Bangkok and Vicinities   \n",
       "3       Bueng Kan         บึงกาฬ  BKN  TH-38  TH81            Northeastern   \n",
       "4         Buriram      บุรีรัมย์  BRM  TH-31  TH28            Northeastern   \n",
       "..            ...            ...  ...    ...   ...                     ...   \n",
       "72     Udon Thani       อุดรธานี  UDN  TH-41  TH76            Northeastern   \n",
       "73    Uthai Thani      อุทัยธานี  UTI  TH-61  TH15                Northern   \n",
       "74      Uttaradit      อุตรดิตถ์  UTD  TH-53  TH10                Northern   \n",
       "75           Yala           ยะลา  YLA  TH-95  TH70                Southern   \n",
       "76       Yasothon          ยโสธร  YST  TH-35  TH72            Northeastern   \n",
       "\n",
       "    pop_2022  pop_2022_male  pop_2022_female  n_households   area_sqm  \\\n",
       "0     375382         186594           188788        125118   3161.248   \n",
       "1     272587         130337           142250        102932    968.372   \n",
       "2    5494932        2571974          2922958       3197865   1568.737   \n",
       "3     421684         211158           210526        143368   4305.000   \n",
       "4    1576915         781530           795385        490644  10322.885   \n",
       "..       ...            ...              ...           ...        ...   \n",
       "72   1563048         772344           790704        548525  11730.302   \n",
       "73    323860         158139           165721        129514   6730.246   \n",
       "74    442949         215648           227301        175738   7838.592   \n",
       "75    545913         271480           274433        175981   4521.078   \n",
       "76    531599         264756           266843        183618   4161.664   \n",
       "\n",
       "    pop_density  \n",
       "0    118.744875  \n",
       "1    281.489965  \n",
       "2   3502.774525  \n",
       "3     97.952149  \n",
       "4    152.759137  \n",
       "..          ...  \n",
       "72   133.248743  \n",
       "73    48.120084  \n",
       "74    56.508745  \n",
       "75   120.748414  \n",
       "76   127.737126  \n",
       "\n",
       "[77 rows x 12 columns]"
      ]
     },
     "execution_count": 50,
     "metadata": {},
     "output_type": "execute_result"
    }
   ],
   "source": [
    "df_tha"
   ]
  },
  {
   "cell_type": "code",
   "execution_count": 68,
   "id": "916a9af9",
   "metadata": {},
   "outputs": [],
   "source": []
  },
  {
   "cell_type": "code",
   "execution_count": 41,
   "id": "103ef865",
   "metadata": {},
   "outputs": [
    {
     "data": {
      "text/html": [
       "<div>\n",
       "<style scoped>\n",
       "    .dataframe tbody tr th:only-of-type {\n",
       "        vertical-align: middle;\n",
       "    }\n",
       "\n",
       "    .dataframe tbody tr th {\n",
       "        vertical-align: top;\n",
       "    }\n",
       "\n",
       "    .dataframe thead th {\n",
       "        text-align: right;\n",
       "    }\n",
       "</style>\n",
       "<table border=\"1\" class=\"dataframe\">\n",
       "  <thead>\n",
       "    <tr style=\"text-align: right;\">\n",
       "      <th></th>\n",
       "      <th>name_en</th>\n",
       "      <th>name_th</th>\n",
       "      <th>HS</th>\n",
       "      <th>ISO</th>\n",
       "      <th>FIPS</th>\n",
       "      <th>region</th>\n",
       "      <th>pop_2022</th>\n",
       "      <th>pop_2022_male</th>\n",
       "      <th>pop_2022_female</th>\n",
       "      <th>n_households</th>\n",
       "      <th>area_sqm</th>\n",
       "      <th>pop_density</th>\n",
       "    </tr>\n",
       "  </thead>\n",
       "  <tbody>\n",
       "    <tr>\n",
       "      <th>2</th>\n",
       "      <td>Bangkok</td>\n",
       "      <td>กรุงเทพมหานคร</td>\n",
       "      <td>BKK</td>\n",
       "      <td>TH-10</td>\n",
       "      <td>TH40</td>\n",
       "      <td>Bangkok and Vicinities</td>\n",
       "      <td>5494932</td>\n",
       "      <td>2571974</td>\n",
       "      <td>2922958</td>\n",
       "      <td>3197865</td>\n",
       "      <td>1568.737</td>\n",
       "      <td>3502.774525</td>\n",
       "    </tr>\n",
       "  </tbody>\n",
       "</table>\n",
       "</div>"
      ],
      "text/plain": [
       "   name_en        name_th   HS    ISO  FIPS                  region  pop_2022  \\\n",
       "2  Bangkok  กรุงเทพมหานคร  BKK  TH-10  TH40  Bangkok and Vicinities   5494932   \n",
       "\n",
       "   pop_2022_male  pop_2022_female  n_households  area_sqm  pop_density  \n",
       "2        2571974          2922958       3197865  1568.737  3502.774525  "
      ]
     },
     "execution_count": 41,
     "metadata": {},
     "output_type": "execute_result"
    }
   ],
   "source": [
    "import plotly.express as px\n",
    "\n",
    "\n",
    "fig = px.bar(df_tha.loc[df_tha['name_en'].isin(li_western_provinces)].sort_values('pop_density', ascending=False), \n",
    "             x=\"name_en\", \n",
    "             y=\"pop_density\", \n",
    "             title=\"เทียบกับจังหวัดในภาคตะวันตก\")\n",
    "fig.show()"
   ]
  },
  {
   "cell_type": "code",
   "execution_count": 45,
   "id": "4a05fdfc",
   "metadata": {},
   "outputs": [],
   "source": [
    "li_western_provinces = ['Kanchanaburi', 'Tak', 'Prachuap Khiri Khan', 'Phetchaburi', 'Ratchaburi']"
   ]
  },
  {
   "cell_type": "code",
   "execution_count": 53,
   "id": "c33f4bff",
   "metadata": {},
   "outputs": [
    {
     "data": {
      "text/plain": [
       "Int64Index([51, 49, 42, 15, 68], dtype='int64')"
      ]
     },
     "execution_count": 53,
     "metadata": {},
     "output_type": "execute_result"
    }
   ],
   "source": [
    "df.index"
   ]
  },
  {
   "cell_type": "code",
   "execution_count": 113,
   "id": "f5e253d2",
   "metadata": {
    "scrolled": false
   },
   "outputs": [
    {
     "data": {
      "application/vnd.plotly.v1+json": {
       "config": {
        "plotlyServerURL": "https://plot.ly",
        "toImageButtonOptions": {
         "filename": "custom_image",
         "format": "svg",
         "height": 400,
         "scale": 1.1,
         "width": 600
        }
       },
       "data": [
        {
         "marker": {
          "color": [
           "black",
           "firebrick",
           "lightslategray",
           "lightslategray",
           "lightslategray",
           "lightslategray"
          ]
         },
         "type": "bar",
         "x": [
          "ภาคตะวันตก",
          "ราชบุรี",
          "ประจวบคีรีขันธ์",
          "เพชรบุรี",
          "กาญจนบุรี",
          "ตาก"
         ],
         "y": [
          64.83870476170037,
          166.6147082380281,
          86.89243390780229,
          77.58060945797507,
          45.900333970670445,
          41.69894524476355
         ]
        }
       ],
       "layout": {
        "height": 400,
        "template": {
         "data": {
          "bar": [
           {
            "error_x": {
             "color": "#2a3f5f"
            },
            "error_y": {
             "color": "#2a3f5f"
            },
            "marker": {
             "line": {
              "color": "#E5ECF6",
              "width": 0.5
             },
             "pattern": {
              "fillmode": "overlay",
              "size": 10,
              "solidity": 0.2
             }
            },
            "type": "bar"
           }
          ],
          "barpolar": [
           {
            "marker": {
             "line": {
              "color": "#E5ECF6",
              "width": 0.5
             },
             "pattern": {
              "fillmode": "overlay",
              "size": 10,
              "solidity": 0.2
             }
            },
            "type": "barpolar"
           }
          ],
          "carpet": [
           {
            "aaxis": {
             "endlinecolor": "#2a3f5f",
             "gridcolor": "white",
             "linecolor": "white",
             "minorgridcolor": "white",
             "startlinecolor": "#2a3f5f"
            },
            "baxis": {
             "endlinecolor": "#2a3f5f",
             "gridcolor": "white",
             "linecolor": "white",
             "minorgridcolor": "white",
             "startlinecolor": "#2a3f5f"
            },
            "type": "carpet"
           }
          ],
          "choropleth": [
           {
            "colorbar": {
             "outlinewidth": 0,
             "ticks": ""
            },
            "type": "choropleth"
           }
          ],
          "contour": [
           {
            "colorbar": {
             "outlinewidth": 0,
             "ticks": ""
            },
            "colorscale": [
             [
              0,
              "#0d0887"
             ],
             [
              0.1111111111111111,
              "#46039f"
             ],
             [
              0.2222222222222222,
              "#7201a8"
             ],
             [
              0.3333333333333333,
              "#9c179e"
             ],
             [
              0.4444444444444444,
              "#bd3786"
             ],
             [
              0.5555555555555556,
              "#d8576b"
             ],
             [
              0.6666666666666666,
              "#ed7953"
             ],
             [
              0.7777777777777778,
              "#fb9f3a"
             ],
             [
              0.8888888888888888,
              "#fdca26"
             ],
             [
              1,
              "#f0f921"
             ]
            ],
            "type": "contour"
           }
          ],
          "contourcarpet": [
           {
            "colorbar": {
             "outlinewidth": 0,
             "ticks": ""
            },
            "type": "contourcarpet"
           }
          ],
          "heatmap": [
           {
            "colorbar": {
             "outlinewidth": 0,
             "ticks": ""
            },
            "colorscale": [
             [
              0,
              "#0d0887"
             ],
             [
              0.1111111111111111,
              "#46039f"
             ],
             [
              0.2222222222222222,
              "#7201a8"
             ],
             [
              0.3333333333333333,
              "#9c179e"
             ],
             [
              0.4444444444444444,
              "#bd3786"
             ],
             [
              0.5555555555555556,
              "#d8576b"
             ],
             [
              0.6666666666666666,
              "#ed7953"
             ],
             [
              0.7777777777777778,
              "#fb9f3a"
             ],
             [
              0.8888888888888888,
              "#fdca26"
             ],
             [
              1,
              "#f0f921"
             ]
            ],
            "type": "heatmap"
           }
          ],
          "heatmapgl": [
           {
            "colorbar": {
             "outlinewidth": 0,
             "ticks": ""
            },
            "colorscale": [
             [
              0,
              "#0d0887"
             ],
             [
              0.1111111111111111,
              "#46039f"
             ],
             [
              0.2222222222222222,
              "#7201a8"
             ],
             [
              0.3333333333333333,
              "#9c179e"
             ],
             [
              0.4444444444444444,
              "#bd3786"
             ],
             [
              0.5555555555555556,
              "#d8576b"
             ],
             [
              0.6666666666666666,
              "#ed7953"
             ],
             [
              0.7777777777777778,
              "#fb9f3a"
             ],
             [
              0.8888888888888888,
              "#fdca26"
             ],
             [
              1,
              "#f0f921"
             ]
            ],
            "type": "heatmapgl"
           }
          ],
          "histogram": [
           {
            "marker": {
             "pattern": {
              "fillmode": "overlay",
              "size": 10,
              "solidity": 0.2
             }
            },
            "type": "histogram"
           }
          ],
          "histogram2d": [
           {
            "colorbar": {
             "outlinewidth": 0,
             "ticks": ""
            },
            "colorscale": [
             [
              0,
              "#0d0887"
             ],
             [
              0.1111111111111111,
              "#46039f"
             ],
             [
              0.2222222222222222,
              "#7201a8"
             ],
             [
              0.3333333333333333,
              "#9c179e"
             ],
             [
              0.4444444444444444,
              "#bd3786"
             ],
             [
              0.5555555555555556,
              "#d8576b"
             ],
             [
              0.6666666666666666,
              "#ed7953"
             ],
             [
              0.7777777777777778,
              "#fb9f3a"
             ],
             [
              0.8888888888888888,
              "#fdca26"
             ],
             [
              1,
              "#f0f921"
             ]
            ],
            "type": "histogram2d"
           }
          ],
          "histogram2dcontour": [
           {
            "colorbar": {
             "outlinewidth": 0,
             "ticks": ""
            },
            "colorscale": [
             [
              0,
              "#0d0887"
             ],
             [
              0.1111111111111111,
              "#46039f"
             ],
             [
              0.2222222222222222,
              "#7201a8"
             ],
             [
              0.3333333333333333,
              "#9c179e"
             ],
             [
              0.4444444444444444,
              "#bd3786"
             ],
             [
              0.5555555555555556,
              "#d8576b"
             ],
             [
              0.6666666666666666,
              "#ed7953"
             ],
             [
              0.7777777777777778,
              "#fb9f3a"
             ],
             [
              0.8888888888888888,
              "#fdca26"
             ],
             [
              1,
              "#f0f921"
             ]
            ],
            "type": "histogram2dcontour"
           }
          ],
          "mesh3d": [
           {
            "colorbar": {
             "outlinewidth": 0,
             "ticks": ""
            },
            "type": "mesh3d"
           }
          ],
          "parcoords": [
           {
            "line": {
             "colorbar": {
              "outlinewidth": 0,
              "ticks": ""
             }
            },
            "type": "parcoords"
           }
          ],
          "pie": [
           {
            "automargin": true,
            "type": "pie"
           }
          ],
          "scatter": [
           {
            "fillpattern": {
             "fillmode": "overlay",
             "size": 10,
             "solidity": 0.2
            },
            "type": "scatter"
           }
          ],
          "scatter3d": [
           {
            "line": {
             "colorbar": {
              "outlinewidth": 0,
              "ticks": ""
             }
            },
            "marker": {
             "colorbar": {
              "outlinewidth": 0,
              "ticks": ""
             }
            },
            "type": "scatter3d"
           }
          ],
          "scattercarpet": [
           {
            "marker": {
             "colorbar": {
              "outlinewidth": 0,
              "ticks": ""
             }
            },
            "type": "scattercarpet"
           }
          ],
          "scattergeo": [
           {
            "marker": {
             "colorbar": {
              "outlinewidth": 0,
              "ticks": ""
             }
            },
            "type": "scattergeo"
           }
          ],
          "scattergl": [
           {
            "marker": {
             "colorbar": {
              "outlinewidth": 0,
              "ticks": ""
             }
            },
            "type": "scattergl"
           }
          ],
          "scattermapbox": [
           {
            "marker": {
             "colorbar": {
              "outlinewidth": 0,
              "ticks": ""
             }
            },
            "type": "scattermapbox"
           }
          ],
          "scatterpolar": [
           {
            "marker": {
             "colorbar": {
              "outlinewidth": 0,
              "ticks": ""
             }
            },
            "type": "scatterpolar"
           }
          ],
          "scatterpolargl": [
           {
            "marker": {
             "colorbar": {
              "outlinewidth": 0,
              "ticks": ""
             }
            },
            "type": "scatterpolargl"
           }
          ],
          "scatterternary": [
           {
            "marker": {
             "colorbar": {
              "outlinewidth": 0,
              "ticks": ""
             }
            },
            "type": "scatterternary"
           }
          ],
          "surface": [
           {
            "colorbar": {
             "outlinewidth": 0,
             "ticks": ""
            },
            "colorscale": [
             [
              0,
              "#0d0887"
             ],
             [
              0.1111111111111111,
              "#46039f"
             ],
             [
              0.2222222222222222,
              "#7201a8"
             ],
             [
              0.3333333333333333,
              "#9c179e"
             ],
             [
              0.4444444444444444,
              "#bd3786"
             ],
             [
              0.5555555555555556,
              "#d8576b"
             ],
             [
              0.6666666666666666,
              "#ed7953"
             ],
             [
              0.7777777777777778,
              "#fb9f3a"
             ],
             [
              0.8888888888888888,
              "#fdca26"
             ],
             [
              1,
              "#f0f921"
             ]
            ],
            "type": "surface"
           }
          ],
          "table": [
           {
            "cells": {
             "fill": {
              "color": "#EBF0F8"
             },
             "line": {
              "color": "white"
             }
            },
            "header": {
             "fill": {
              "color": "#C8D4E3"
             },
             "line": {
              "color": "white"
             }
            },
            "type": "table"
           }
          ]
         },
         "layout": {
          "annotationdefaults": {
           "arrowcolor": "#2a3f5f",
           "arrowhead": 0,
           "arrowwidth": 1
          },
          "autotypenumbers": "strict",
          "coloraxis": {
           "colorbar": {
            "outlinewidth": 0,
            "ticks": ""
           }
          },
          "colorscale": {
           "diverging": [
            [
             0,
             "#8e0152"
            ],
            [
             0.1,
             "#c51b7d"
            ],
            [
             0.2,
             "#de77ae"
            ],
            [
             0.3,
             "#f1b6da"
            ],
            [
             0.4,
             "#fde0ef"
            ],
            [
             0.5,
             "#f7f7f7"
            ],
            [
             0.6,
             "#e6f5d0"
            ],
            [
             0.7,
             "#b8e186"
            ],
            [
             0.8,
             "#7fbc41"
            ],
            [
             0.9,
             "#4d9221"
            ],
            [
             1,
             "#276419"
            ]
           ],
           "sequential": [
            [
             0,
             "#0d0887"
            ],
            [
             0.1111111111111111,
             "#46039f"
            ],
            [
             0.2222222222222222,
             "#7201a8"
            ],
            [
             0.3333333333333333,
             "#9c179e"
            ],
            [
             0.4444444444444444,
             "#bd3786"
            ],
            [
             0.5555555555555556,
             "#d8576b"
            ],
            [
             0.6666666666666666,
             "#ed7953"
            ],
            [
             0.7777777777777778,
             "#fb9f3a"
            ],
            [
             0.8888888888888888,
             "#fdca26"
            ],
            [
             1,
             "#f0f921"
            ]
           ],
           "sequentialminus": [
            [
             0,
             "#0d0887"
            ],
            [
             0.1111111111111111,
             "#46039f"
            ],
            [
             0.2222222222222222,
             "#7201a8"
            ],
            [
             0.3333333333333333,
             "#9c179e"
            ],
            [
             0.4444444444444444,
             "#bd3786"
            ],
            [
             0.5555555555555556,
             "#d8576b"
            ],
            [
             0.6666666666666666,
             "#ed7953"
            ],
            [
             0.7777777777777778,
             "#fb9f3a"
            ],
            [
             0.8888888888888888,
             "#fdca26"
            ],
            [
             1,
             "#f0f921"
            ]
           ]
          },
          "colorway": [
           "#636efa",
           "#EF553B",
           "#00cc96",
           "#ab63fa",
           "#FFA15A",
           "#19d3f3",
           "#FF6692",
           "#B6E880",
           "#FF97FF",
           "#FECB52"
          ],
          "font": {
           "color": "#2a3f5f"
          },
          "geo": {
           "bgcolor": "white",
           "lakecolor": "white",
           "landcolor": "#E5ECF6",
           "showlakes": true,
           "showland": true,
           "subunitcolor": "white"
          },
          "hoverlabel": {
           "align": "left"
          },
          "hovermode": "closest",
          "mapbox": {
           "style": "light"
          },
          "paper_bgcolor": "white",
          "plot_bgcolor": "#E5ECF6",
          "polar": {
           "angularaxis": {
            "gridcolor": "white",
            "linecolor": "white",
            "ticks": ""
           },
           "bgcolor": "#E5ECF6",
           "radialaxis": {
            "gridcolor": "white",
            "linecolor": "white",
            "ticks": ""
           }
          },
          "scene": {
           "xaxis": {
            "backgroundcolor": "#E5ECF6",
            "gridcolor": "white",
            "gridwidth": 2,
            "linecolor": "white",
            "showbackground": true,
            "ticks": "",
            "zerolinecolor": "white"
           },
           "yaxis": {
            "backgroundcolor": "#E5ECF6",
            "gridcolor": "white",
            "gridwidth": 2,
            "linecolor": "white",
            "showbackground": true,
            "ticks": "",
            "zerolinecolor": "white"
           },
           "zaxis": {
            "backgroundcolor": "#E5ECF6",
            "gridcolor": "white",
            "gridwidth": 2,
            "linecolor": "white",
            "showbackground": true,
            "ticks": "",
            "zerolinecolor": "white"
           }
          },
          "shapedefaults": {
           "line": {
            "color": "#2a3f5f"
           }
          },
          "ternary": {
           "aaxis": {
            "gridcolor": "white",
            "linecolor": "white",
            "ticks": ""
           },
           "baxis": {
            "gridcolor": "white",
            "linecolor": "white",
            "ticks": ""
           },
           "bgcolor": "#E5ECF6",
           "caxis": {
            "gridcolor": "white",
            "linecolor": "white",
            "ticks": ""
           }
          },
          "title": {
           "x": 0.05
          },
          "xaxis": {
           "automargin": true,
           "gridcolor": "white",
           "linecolor": "white",
           "ticks": "",
           "title": {
            "standoff": 15
           },
           "zerolinecolor": "white",
           "zerolinewidth": 2
          },
          "yaxis": {
           "automargin": true,
           "gridcolor": "white",
           "linecolor": "white",
           "ticks": "",
           "title": {
            "standoff": 15
           },
           "zerolinecolor": "white",
           "zerolinewidth": 2
          }
         }
        },
        "title": {
         "text": "<b>ความหนาแน่นประชากร<br>เทียบกับจังหวัดอื่น ๆ ในภาคตะวันตก<b>",
         "x": 0.5
        },
        "width": 600
       }
      },
      "text/html": [
       "<div>                            <div id=\"e03581c8-8350-48ca-a4f7-7ca31b975691\" class=\"plotly-graph-div\" style=\"height:400px; width:600px;\"></div>            <script type=\"text/javascript\">                require([\"plotly\"], function(Plotly) {                    window.PLOTLYENV=window.PLOTLYENV || {};                                    if (document.getElementById(\"e03581c8-8350-48ca-a4f7-7ca31b975691\")) {                    Plotly.newPlot(                        \"e03581c8-8350-48ca-a4f7-7ca31b975691\",                        [{\"marker\":{\"color\":[\"black\",\"firebrick\",\"lightslategray\",\"lightslategray\",\"lightslategray\",\"lightslategray\"]},\"x\":[\"\\u0e20\\u0e32\\u0e04\\u0e15\\u0e30\\u0e27\\u0e31\\u0e19\\u0e15\\u0e01\",\"\\u0e23\\u0e32\\u0e0a\\u0e1a\\u0e38\\u0e23\\u0e35\",\"\\u0e1b\\u0e23\\u0e30\\u0e08\\u0e27\\u0e1a\\u0e04\\u0e35\\u0e23\\u0e35\\u0e02\\u0e31\\u0e19\\u0e18\\u0e4c\",\"\\u0e40\\u0e1e\\u0e0a\\u0e23\\u0e1a\\u0e38\\u0e23\\u0e35\",\"\\u0e01\\u0e32\\u0e0d\\u0e08\\u0e19\\u0e1a\\u0e38\\u0e23\\u0e35\",\"\\u0e15\\u0e32\\u0e01\"],\"y\":[64.83870476170037,166.6147082380281,86.89243390780229,77.58060945797507,45.900333970670445,41.69894524476355],\"type\":\"bar\"}],                        {\"template\":{\"data\":{\"histogram2dcontour\":[{\"type\":\"histogram2dcontour\",\"colorbar\":{\"outlinewidth\":0,\"ticks\":\"\"},\"colorscale\":[[0.0,\"#0d0887\"],[0.1111111111111111,\"#46039f\"],[0.2222222222222222,\"#7201a8\"],[0.3333333333333333,\"#9c179e\"],[0.4444444444444444,\"#bd3786\"],[0.5555555555555556,\"#d8576b\"],[0.6666666666666666,\"#ed7953\"],[0.7777777777777778,\"#fb9f3a\"],[0.8888888888888888,\"#fdca26\"],[1.0,\"#f0f921\"]]}],\"choropleth\":[{\"type\":\"choropleth\",\"colorbar\":{\"outlinewidth\":0,\"ticks\":\"\"}}],\"histogram2d\":[{\"type\":\"histogram2d\",\"colorbar\":{\"outlinewidth\":0,\"ticks\":\"\"},\"colorscale\":[[0.0,\"#0d0887\"],[0.1111111111111111,\"#46039f\"],[0.2222222222222222,\"#7201a8\"],[0.3333333333333333,\"#9c179e\"],[0.4444444444444444,\"#bd3786\"],[0.5555555555555556,\"#d8576b\"],[0.6666666666666666,\"#ed7953\"],[0.7777777777777778,\"#fb9f3a\"],[0.8888888888888888,\"#fdca26\"],[1.0,\"#f0f921\"]]}],\"heatmap\":[{\"type\":\"heatmap\",\"colorbar\":{\"outlinewidth\":0,\"ticks\":\"\"},\"colorscale\":[[0.0,\"#0d0887\"],[0.1111111111111111,\"#46039f\"],[0.2222222222222222,\"#7201a8\"],[0.3333333333333333,\"#9c179e\"],[0.4444444444444444,\"#bd3786\"],[0.5555555555555556,\"#d8576b\"],[0.6666666666666666,\"#ed7953\"],[0.7777777777777778,\"#fb9f3a\"],[0.8888888888888888,\"#fdca26\"],[1.0,\"#f0f921\"]]}],\"heatmapgl\":[{\"type\":\"heatmapgl\",\"colorbar\":{\"outlinewidth\":0,\"ticks\":\"\"},\"colorscale\":[[0.0,\"#0d0887\"],[0.1111111111111111,\"#46039f\"],[0.2222222222222222,\"#7201a8\"],[0.3333333333333333,\"#9c179e\"],[0.4444444444444444,\"#bd3786\"],[0.5555555555555556,\"#d8576b\"],[0.6666666666666666,\"#ed7953\"],[0.7777777777777778,\"#fb9f3a\"],[0.8888888888888888,\"#fdca26\"],[1.0,\"#f0f921\"]]}],\"contourcarpet\":[{\"type\":\"contourcarpet\",\"colorbar\":{\"outlinewidth\":0,\"ticks\":\"\"}}],\"contour\":[{\"type\":\"contour\",\"colorbar\":{\"outlinewidth\":0,\"ticks\":\"\"},\"colorscale\":[[0.0,\"#0d0887\"],[0.1111111111111111,\"#46039f\"],[0.2222222222222222,\"#7201a8\"],[0.3333333333333333,\"#9c179e\"],[0.4444444444444444,\"#bd3786\"],[0.5555555555555556,\"#d8576b\"],[0.6666666666666666,\"#ed7953\"],[0.7777777777777778,\"#fb9f3a\"],[0.8888888888888888,\"#fdca26\"],[1.0,\"#f0f921\"]]}],\"surface\":[{\"type\":\"surface\",\"colorbar\":{\"outlinewidth\":0,\"ticks\":\"\"},\"colorscale\":[[0.0,\"#0d0887\"],[0.1111111111111111,\"#46039f\"],[0.2222222222222222,\"#7201a8\"],[0.3333333333333333,\"#9c179e\"],[0.4444444444444444,\"#bd3786\"],[0.5555555555555556,\"#d8576b\"],[0.6666666666666666,\"#ed7953\"],[0.7777777777777778,\"#fb9f3a\"],[0.8888888888888888,\"#fdca26\"],[1.0,\"#f0f921\"]]}],\"mesh3d\":[{\"type\":\"mesh3d\",\"colorbar\":{\"outlinewidth\":0,\"ticks\":\"\"}}],\"scatter\":[{\"fillpattern\":{\"fillmode\":\"overlay\",\"size\":10,\"solidity\":0.2},\"type\":\"scatter\"}],\"parcoords\":[{\"type\":\"parcoords\",\"line\":{\"colorbar\":{\"outlinewidth\":0,\"ticks\":\"\"}}}],\"scatterpolargl\":[{\"type\":\"scatterpolargl\",\"marker\":{\"colorbar\":{\"outlinewidth\":0,\"ticks\":\"\"}}}],\"bar\":[{\"error_x\":{\"color\":\"#2a3f5f\"},\"error_y\":{\"color\":\"#2a3f5f\"},\"marker\":{\"line\":{\"color\":\"#E5ECF6\",\"width\":0.5},\"pattern\":{\"fillmode\":\"overlay\",\"size\":10,\"solidity\":0.2}},\"type\":\"bar\"}],\"scattergeo\":[{\"type\":\"scattergeo\",\"marker\":{\"colorbar\":{\"outlinewidth\":0,\"ticks\":\"\"}}}],\"scatterpolar\":[{\"type\":\"scatterpolar\",\"marker\":{\"colorbar\":{\"outlinewidth\":0,\"ticks\":\"\"}}}],\"histogram\":[{\"marker\":{\"pattern\":{\"fillmode\":\"overlay\",\"size\":10,\"solidity\":0.2}},\"type\":\"histogram\"}],\"scattergl\":[{\"type\":\"scattergl\",\"marker\":{\"colorbar\":{\"outlinewidth\":0,\"ticks\":\"\"}}}],\"scatter3d\":[{\"type\":\"scatter3d\",\"line\":{\"colorbar\":{\"outlinewidth\":0,\"ticks\":\"\"}},\"marker\":{\"colorbar\":{\"outlinewidth\":0,\"ticks\":\"\"}}}],\"scattermapbox\":[{\"type\":\"scattermapbox\",\"marker\":{\"colorbar\":{\"outlinewidth\":0,\"ticks\":\"\"}}}],\"scatterternary\":[{\"type\":\"scatterternary\",\"marker\":{\"colorbar\":{\"outlinewidth\":0,\"ticks\":\"\"}}}],\"scattercarpet\":[{\"type\":\"scattercarpet\",\"marker\":{\"colorbar\":{\"outlinewidth\":0,\"ticks\":\"\"}}}],\"carpet\":[{\"aaxis\":{\"endlinecolor\":\"#2a3f5f\",\"gridcolor\":\"white\",\"linecolor\":\"white\",\"minorgridcolor\":\"white\",\"startlinecolor\":\"#2a3f5f\"},\"baxis\":{\"endlinecolor\":\"#2a3f5f\",\"gridcolor\":\"white\",\"linecolor\":\"white\",\"minorgridcolor\":\"white\",\"startlinecolor\":\"#2a3f5f\"},\"type\":\"carpet\"}],\"table\":[{\"cells\":{\"fill\":{\"color\":\"#EBF0F8\"},\"line\":{\"color\":\"white\"}},\"header\":{\"fill\":{\"color\":\"#C8D4E3\"},\"line\":{\"color\":\"white\"}},\"type\":\"table\"}],\"barpolar\":[{\"marker\":{\"line\":{\"color\":\"#E5ECF6\",\"width\":0.5},\"pattern\":{\"fillmode\":\"overlay\",\"size\":10,\"solidity\":0.2}},\"type\":\"barpolar\"}],\"pie\":[{\"automargin\":true,\"type\":\"pie\"}]},\"layout\":{\"autotypenumbers\":\"strict\",\"colorway\":[\"#636efa\",\"#EF553B\",\"#00cc96\",\"#ab63fa\",\"#FFA15A\",\"#19d3f3\",\"#FF6692\",\"#B6E880\",\"#FF97FF\",\"#FECB52\"],\"font\":{\"color\":\"#2a3f5f\"},\"hovermode\":\"closest\",\"hoverlabel\":{\"align\":\"left\"},\"paper_bgcolor\":\"white\",\"plot_bgcolor\":\"#E5ECF6\",\"polar\":{\"bgcolor\":\"#E5ECF6\",\"angularaxis\":{\"gridcolor\":\"white\",\"linecolor\":\"white\",\"ticks\":\"\"},\"radialaxis\":{\"gridcolor\":\"white\",\"linecolor\":\"white\",\"ticks\":\"\"}},\"ternary\":{\"bgcolor\":\"#E5ECF6\",\"aaxis\":{\"gridcolor\":\"white\",\"linecolor\":\"white\",\"ticks\":\"\"},\"baxis\":{\"gridcolor\":\"white\",\"linecolor\":\"white\",\"ticks\":\"\"},\"caxis\":{\"gridcolor\":\"white\",\"linecolor\":\"white\",\"ticks\":\"\"}},\"coloraxis\":{\"colorbar\":{\"outlinewidth\":0,\"ticks\":\"\"}},\"colorscale\":{\"sequential\":[[0.0,\"#0d0887\"],[0.1111111111111111,\"#46039f\"],[0.2222222222222222,\"#7201a8\"],[0.3333333333333333,\"#9c179e\"],[0.4444444444444444,\"#bd3786\"],[0.5555555555555556,\"#d8576b\"],[0.6666666666666666,\"#ed7953\"],[0.7777777777777778,\"#fb9f3a\"],[0.8888888888888888,\"#fdca26\"],[1.0,\"#f0f921\"]],\"sequentialminus\":[[0.0,\"#0d0887\"],[0.1111111111111111,\"#46039f\"],[0.2222222222222222,\"#7201a8\"],[0.3333333333333333,\"#9c179e\"],[0.4444444444444444,\"#bd3786\"],[0.5555555555555556,\"#d8576b\"],[0.6666666666666666,\"#ed7953\"],[0.7777777777777778,\"#fb9f3a\"],[0.8888888888888888,\"#fdca26\"],[1.0,\"#f0f921\"]],\"diverging\":[[0,\"#8e0152\"],[0.1,\"#c51b7d\"],[0.2,\"#de77ae\"],[0.3,\"#f1b6da\"],[0.4,\"#fde0ef\"],[0.5,\"#f7f7f7\"],[0.6,\"#e6f5d0\"],[0.7,\"#b8e186\"],[0.8,\"#7fbc41\"],[0.9,\"#4d9221\"],[1,\"#276419\"]]},\"xaxis\":{\"gridcolor\":\"white\",\"linecolor\":\"white\",\"ticks\":\"\",\"title\":{\"standoff\":15},\"zerolinecolor\":\"white\",\"automargin\":true,\"zerolinewidth\":2},\"yaxis\":{\"gridcolor\":\"white\",\"linecolor\":\"white\",\"ticks\":\"\",\"title\":{\"standoff\":15},\"zerolinecolor\":\"white\",\"automargin\":true,\"zerolinewidth\":2},\"scene\":{\"xaxis\":{\"backgroundcolor\":\"#E5ECF6\",\"gridcolor\":\"white\",\"linecolor\":\"white\",\"showbackground\":true,\"ticks\":\"\",\"zerolinecolor\":\"white\",\"gridwidth\":2},\"yaxis\":{\"backgroundcolor\":\"#E5ECF6\",\"gridcolor\":\"white\",\"linecolor\":\"white\",\"showbackground\":true,\"ticks\":\"\",\"zerolinecolor\":\"white\",\"gridwidth\":2},\"zaxis\":{\"backgroundcolor\":\"#E5ECF6\",\"gridcolor\":\"white\",\"linecolor\":\"white\",\"showbackground\":true,\"ticks\":\"\",\"zerolinecolor\":\"white\",\"gridwidth\":2}},\"shapedefaults\":{\"line\":{\"color\":\"#2a3f5f\"}},\"annotationdefaults\":{\"arrowcolor\":\"#2a3f5f\",\"arrowhead\":0,\"arrowwidth\":1},\"geo\":{\"bgcolor\":\"white\",\"landcolor\":\"#E5ECF6\",\"subunitcolor\":\"white\",\"showland\":true,\"showlakes\":true,\"lakecolor\":\"white\"},\"title\":{\"x\":0.05},\"mapbox\":{\"style\":\"light\"}}},\"title\":{\"text\":\"<b>\\u0e04\\u0e27\\u0e32\\u0e21\\u0e2b\\u0e19\\u0e32\\u0e41\\u0e19\\u0e48\\u0e19\\u0e1b\\u0e23\\u0e30\\u0e0a\\u0e32\\u0e01\\u0e23<br>\\u0e40\\u0e17\\u0e35\\u0e22\\u0e1a\\u0e01\\u0e31\\u0e1a\\u0e08\\u0e31\\u0e07\\u0e2b\\u0e27\\u0e31\\u0e14\\u0e2d\\u0e37\\u0e48\\u0e19 \\u0e46 \\u0e43\\u0e19\\u0e20\\u0e32\\u0e04\\u0e15\\u0e30\\u0e27\\u0e31\\u0e19\\u0e15\\u0e01<b>\",\"x\":0.5},\"width\":600,\"height\":400},                        {\"toImageButtonOptions\": {\"format\": \"svg\", \"filename\": \"custom_image\", \"height\": 400, \"width\": 600, \"scale\": 1.1}, \"responsive\": true}                    ).then(function(){\n",
       "                            \n",
       "var gd = document.getElementById('e03581c8-8350-48ca-a4f7-7ca31b975691');\n",
       "var x = new MutationObserver(function (mutations, observer) {{\n",
       "        var display = window.getComputedStyle(gd).display;\n",
       "        if (!display || display === 'none') {{\n",
       "            console.log([gd, 'removed!']);\n",
       "            Plotly.purge(gd);\n",
       "            observer.disconnect();\n",
       "        }}\n",
       "}});\n",
       "\n",
       "// Listen for the removal of the full notebook cells\n",
       "var notebookContainer = gd.closest('#notebook-container');\n",
       "if (notebookContainer) {{\n",
       "    x.observe(notebookContainer, {childList: true});\n",
       "}}\n",
       "\n",
       "// Listen for the clearing of the current output cell\n",
       "var outputEl = gd.closest('.output');\n",
       "if (outputEl) {{\n",
       "    x.observe(outputEl, {childList: true});\n",
       "}}\n",
       "\n",
       "                        })                };                });            </script>        </div>"
      ]
     },
     "metadata": {},
     "output_type": "display_data"
    }
   ],
   "source": [
    "config = {\n",
    "  'toImageButtonOptions': {\n",
    "    'format': 'svg', # one of png, svg, jpeg, webp\n",
    "    'filename': 'custom_image',\n",
    "    'height': 400,\n",
    "    'width': 600,\n",
    "    'scale': 1.1 # Multiply title/legend/axis/canvas sizes by this factor\n",
    "  }\n",
    "}\n",
    "\n",
    "import plotly.graph_objects as go\n",
    "\n",
    "df_tha_western = df_tha.loc[df_tha['name_en'].isin(li_western_provinces)]\n",
    "df = df_tha_western.sort_values('pop_density', ascending=False)\n",
    "\n",
    "colors = ['lightslategray',] * 6\n",
    "colors[0] = 'black'\n",
    "colors[1] = 'firebrick'\n",
    "\n",
    "fig = go.Figure(data=[go.Bar(\n",
    "    x=['ภาคตะวันตก'] \n",
    "    + df['name_th'].to_list(),\n",
    "    y=[df_tha_western.pop_2022.sum()/df_tha_western.area_sqm.sum()] \n",
    "    + df['pop_density'].to_list(),\n",
    "    marker_color=colors\n",
    ")])\n",
    "fig.update_layout(\n",
    "    title_text='<b>ความหนาแน่นประชากร<br>เทียบกับจังหวัดอื่น ๆ ในภาคตะวันตก<b>',\n",
    "    yaxis_title=\"\"\n",
    "    width=600,\n",
    "    height=400,\n",
    "    title_x=0.5)\n",
    "fig.show(config=config)"
   ]
  },
  {
   "cell_type": "code",
   "execution_count": 65,
   "id": "21d3c0dd",
   "metadata": {},
   "outputs": [
    {
     "data": {
      "text/plain": [
       "['a',\n",
       " 'Ratchaburi',\n",
       " 'Prachuap Khiri Khan',\n",
       " 'Phetchaburi',\n",
       " 'Kanchanaburi',\n",
       " 'Tak']"
      ]
     },
     "execution_count": 65,
     "metadata": {},
     "output_type": "execute_result"
    }
   ],
   "source": [
    "['a'] + df['name_en'].to_list()"
   ]
  }
 ],
 "metadata": {
  "kernelspec": {
   "display_name": "Python 3 (ipykernel)",
   "language": "python",
   "name": "python3"
  },
  "language_info": {
   "codemirror_mode": {
    "name": "ipython",
    "version": 3
   },
   "file_extension": ".py",
   "mimetype": "text/x-python",
   "name": "python",
   "nbconvert_exporter": "python",
   "pygments_lexer": "ipython3",
   "version": "3.9.16"
  }
 },
 "nbformat": 4,
 "nbformat_minor": 5
}

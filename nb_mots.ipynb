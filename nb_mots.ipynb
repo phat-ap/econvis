{
 "cells": [
  {
   "cell_type": "code",
   "execution_count": 37,
   "id": "c20bfcb5",
   "metadata": {},
   "outputs": [],
   "source": [
    "import pandas as pd\n",
    "\n",
    "# Data\n",
    "df_mots = (pd\n",
    "           .read_csv('https://raw.githubusercontent.com/phat-ap/econvis/main/data/tha_mots_annual_by_province.csv'\n",
    "                    )\n",
    "          )\n",
    "\n",
    "for col in ['level', 'province_en', 'variable_en']:\n",
    "    df_mots[col] = df_mots[col].astype('category')"
   ]
  },
  {
   "cell_type": "code",
   "execution_count": 56,
   "id": "ea48169e",
   "metadata": {},
   "outputs": [],
   "source": [
    "def get_data(variable, province):\n",
    "    return (df_mots\n",
    "            .query('variable_en == @variable & province_en == @province')\n",
    "            .sort_values('year').set_index('year')['value'].rename(province)\n",
    "            .copy()\n",
    "           )"
   ]
  },
  {
   "cell_type": "code",
   "execution_count": 57,
   "id": "a37bd886",
   "metadata": {},
   "outputs": [
    {
     "data": {
      "text/plain": [
       "year\n",
       "2019    56.89\n",
       "2020    36.33\n",
       "2021    19.25\n",
       "2022    50.64\n",
       "Name: Ratchaburi, dtype: float64"
      ]
     },
     "execution_count": 57,
     "metadata": {},
     "output_type": "execute_result"
    }
   ],
   "source": [
    "get_data('Occupancy Rate (%)', 'Ratchaburi')"
   ]
  },
  {
   "cell_type": "code",
   "execution_count": 58,
   "id": "73726f26",
   "metadata": {},
   "outputs": [
    {
     "data": {
      "text/plain": [
       "['Occupancy Rate (%)',\n",
       " 'Number of Accommodation Guests',\n",
       " 'Number of Visitors',\n",
       " 'Number of Thai Visitors',\n",
       " 'Number of Foreign Visitors',\n",
       " 'Receipts from Visitors (MB)',\n",
       " 'Receipts from Thai Visitors (MB)',\n",
       " 'Receipts from Foreign Visitors (MB)']"
      ]
     },
     "execution_count": 58,
     "metadata": {},
     "output_type": "execute_result"
    }
   ],
   "source": [
    "df_mots.variable_en.unique().to_list()"
   ]
  },
  {
   "cell_type": "code",
   "execution_count": 59,
   "id": "f946cb96",
   "metadata": {},
   "outputs": [],
   "source": [
    "li_west = ['Ratchaburi', 'Tak', 'Prachuap Khiri Khan', 'Phetchaburi', 'Kanchanaburi']"
   ]
  },
  {
   "cell_type": "code",
   "execution_count": 65,
   "id": "5b217038",
   "metadata": {},
   "outputs": [],
   "source": [
    "def get_data_by_variable(variable):\n",
    "    return pd.concat([get_data(variable, 'Whole Kingdom'),\n",
    "                      pd.concat([get_data(variable, province) for province in li_west], axis = 1).mean(axis = 1).rename('Western Region'),\n",
    "                      get_data(variable, 'Ratchaburi')\n",
    "                     ],\n",
    "                     axis = 1\n",
    "                    )"
   ]
  },
  {
   "cell_type": "code",
   "execution_count": 69,
   "id": "8433f2f3",
   "metadata": {},
   "outputs": [],
   "source": [
    "get_data_by_variable('Number of Visitors').to_csv('output.csv')"
   ]
  },
  {
   "cell_type": "code",
   "execution_count": 75,
   "id": "a7841edf",
   "metadata": {},
   "outputs": [
    {
     "data": {
      "text/html": [
       "<div>\n",
       "<style scoped>\n",
       "    .dataframe tbody tr th:only-of-type {\n",
       "        vertical-align: middle;\n",
       "    }\n",
       "\n",
       "    .dataframe tbody tr th {\n",
       "        vertical-align: top;\n",
       "    }\n",
       "\n",
       "    .dataframe thead th {\n",
       "        text-align: right;\n",
       "    }\n",
       "</style>\n",
       "<table border=\"1\" class=\"dataframe\">\n",
       "  <thead>\n",
       "    <tr style=\"text-align: right;\">\n",
       "      <th></th>\n",
       "      <th>Ratchaburi</th>\n",
       "      <th>Ratchaburi</th>\n",
       "      <th>Ratchaburi</th>\n",
       "    </tr>\n",
       "    <tr>\n",
       "      <th>year</th>\n",
       "      <th></th>\n",
       "      <th></th>\n",
       "      <th></th>\n",
       "    </tr>\n",
       "  </thead>\n",
       "  <tbody>\n",
       "    <tr>\n",
       "      <th>2019</th>\n",
       "      <td>1890.719474</td>\n",
       "      <td>1877.665368</td>\n",
       "      <td>2322.015334</td>\n",
       "    </tr>\n",
       "    <tr>\n",
       "      <th>2020</th>\n",
       "      <td>1638.846165</td>\n",
       "      <td>1635.258483</td>\n",
       "      <td>2356.911827</td>\n",
       "    </tr>\n",
       "    <tr>\n",
       "      <th>2021</th>\n",
       "      <td>1273.813318</td>\n",
       "      <td>1270.920889</td>\n",
       "      <td>3070.104754</td>\n",
       "    </tr>\n",
       "    <tr>\n",
       "      <th>2022</th>\n",
       "      <td>1180.140559</td>\n",
       "      <td>1152.305948</td>\n",
       "      <td>2662.972292</td>\n",
       "    </tr>\n",
       "  </tbody>\n",
       "</table>\n",
       "</div>"
      ],
      "text/plain": [
       "       Ratchaburi   Ratchaburi   Ratchaburi\n",
       "year                                       \n",
       "2019  1890.719474  1877.665368  2322.015334\n",
       "2020  1638.846165  1635.258483  2356.911827\n",
       "2021  1273.813318  1270.920889  3070.104754\n",
       "2022  1180.140559  1152.305948  2662.972292"
      ]
     },
     "execution_count": 75,
     "metadata": {},
     "output_type": "execute_result"
    }
   ],
   "source": [
    "# Average Spending of Visitors \n",
    "pd.concat([get_data('Receipts from Visitors (MB)', 'Ratchaburi')/get_data('Number of Visitors', 'Ratchaburi')*1000000,\n",
    "           get_data('Receipts from Thai Visitors (MB)', 'Ratchaburi')/get_data('Number of Thai Visitors', 'Ratchaburi')*1000000,\n",
    "           get_data('Receipts from Foreign Visitors (MB)', 'Ratchaburi')/get_data('Number of Foreign Visitors', 'Ratchaburi')*1000000\n",
    "          ],\n",
    "          axis = 1\n",
    "         )"
   ]
  },
  {
   "cell_type": "code",
   "execution_count": 79,
   "id": "3691f9ef",
   "metadata": {},
   "outputs": [],
   "source": [
    "# Number of Visitors\n",
    "pd.concat([get_data('Number of Thai Visitors', 'Ratchaburi'),\n",
    "           get_data('Number of Foreign Visitors', 'Ratchaburi')\n",
    "          ],\n",
    "          axis = 1\n",
    "         )"
   ]
  }
 ],
 "metadata": {
  "kernelspec": {
   "display_name": "Python 3 (ipykernel)",
   "language": "python",
   "name": "python3"
  },
  "language_info": {
   "codemirror_mode": {
    "name": "ipython",
    "version": 3
   },
   "file_extension": ".py",
   "mimetype": "text/x-python",
   "name": "python",
   "nbconvert_exporter": "python",
   "pygments_lexer": "ipython3",
   "version": "3.9.16"
  }
 },
 "nbformat": 4,
 "nbformat_minor": 5
}
